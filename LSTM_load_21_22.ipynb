{
 "cells": [
  {
   "cell_type": "code",
   "execution_count": 1,
   "id": "a3316d67",
   "metadata": {},
   "outputs": [],
   "source": [
    "%config IPCompleter.use_jedi=False\n",
    "import pandas as pd\n",
    "import numpy as np\n",
    "import math\n",
    "from datetime import datetime\n",
    "from matplotlib import pyplot as plt\n",
    "import os\n",
    "import tensorflow as tf\n",
    "from tensorflow import keras\n",
    "from tensorflow.keras.callbacks import EarlyStopping, History, TensorBoard, Callback, LearningRateScheduler\n",
    "from tensorflow.keras.layers import Embedding, LSTM, Dense, Dropout, Input, RepeatVector\n",
    "from tensorflow.keras import Sequential\n",
    "from tensorflow.keras.utils import plot_model\n",
    "from tensorflow.keras.optimizers import RMSprop\n",
    "from tensorflow.keras.preprocessing.text import Tokenizer\n",
    "from tensorflow.keras.preprocessing.sequence import pad_sequences\n",
    "from sklearn.model_selection import train_test_split\n",
    "from sklearn.preprocessing import MinMaxScaler\n",
    "from sklearn.metrics import mean_squared_error, r2_score,mean_absolute_error,mean_absolute_percentage_error\n",
    "import seaborn as sns\n",
    "\n",
    "# plt.style.use('seaborn')\n",
    "plt.style.use('fivethirtyeight')"
   ]
  },
  {
   "cell_type": "code",
   "execution_count": 3,
   "id": "2498b7eb",
   "metadata": {},
   "outputs": [],
   "source": [
    "data_total = pd.read_csv('diario_total_2021-2022.csv', sep=\",\")\n",
    "data = data_total[['fecha', 'bret_valor_usd', 'pbi_valor_millones','precio_total']]\n",
    "data = data.set_index('fecha')\n",
    "features = data.columns"
   ]
  },
  {
   "cell_type": "code",
   "execution_count": 4,
   "id": "46674f3a",
   "metadata": {},
   "outputs": [
    {
     "data": {
      "text/plain": [
       "(3,)"
      ]
     },
     "execution_count": 4,
     "metadata": {},
     "output_type": "execute_result"
    }
   ],
   "source": [
    "features.shape"
   ]
  },
  {
   "cell_type": "code",
   "execution_count": 5,
   "id": "88a99c14",
   "metadata": {},
   "outputs": [],
   "source": [
    "# escalar - normalizar los datos\n",
    "scaler= MinMaxScaler()\n",
    "data_scaled = scaler.fit_transform(data[features])"
   ]
  },
  {
   "cell_type": "code",
   "execution_count": 6,
   "id": "affa2801",
   "metadata": {},
   "outputs": [
    {
     "data": {
      "text/plain": [
       "(730, 3)"
      ]
     },
     "execution_count": 6,
     "metadata": {},
     "output_type": "execute_result"
    }
   ],
   "source": [
    "data_scaled.shape"
   ]
  },
  {
   "cell_type": "code",
   "execution_count": 7,
   "id": "926e8192",
   "metadata": {},
   "outputs": [],
   "source": [
    "target_precio= data_total['precio_total'].values\n",
    "target_precio= target_precio.reshape(-1,1)\n",
    "target_scaler = MinMaxScaler()\n",
    "target_scaled = target_scaler.fit_transform(target_precio)"
   ]
  },
  {
   "cell_type": "code",
   "execution_count": 8,
   "id": "f0b013c3",
   "metadata": {},
   "outputs": [
    {
     "data": {
      "text/plain": [
       "((730, 1), (730, 3))"
      ]
     },
     "execution_count": 8,
     "metadata": {},
     "output_type": "execute_result"
    }
   ],
   "source": [
    "target_precio.shape, data_scaled.shape"
   ]
  },
  {
   "cell_type": "code",
   "execution_count": 9,
   "id": "a2eca3dd",
   "metadata": {},
   "outputs": [],
   "source": [
    "timesteps = 365 # dias (tiempo) del pasado que se usa para predecir\n",
    "future_steps = 10 # instante de tiempo del futuro que se quiere predecir (=0 dia actual)\n",
    "\n",
    "\n",
    "X = []\n",
    "y = []\n",
    "\n",
    "\n",
    "for i in range(timesteps, len(data_scaled) - future_steps):\n",
    "    xi = [data_scaled[i - timesteps + j] for j in range(timesteps)]\n",
    "    yi = target_scaled[i+future_steps] # target\n",
    "    if not np.isnan(yi) and not np.any(np.isnan(xi)):\n",
    "        X.append(xi)\n",
    "        y.append(yi)\n",
    "\n",
    "X = np.array(X)\n",
    "y = np.array(y)"
   ]
  },
  {
   "cell_type": "code",
   "execution_count": 10,
   "id": "ef093192",
   "metadata": {},
   "outputs": [
    {
     "ename": "OSError",
     "evalue": "No file or directory found at Modelos_entrenados/lstm_h5/lstm_2016_2020.h5",
     "output_type": "error",
     "traceback": [
      "\u001b[1;31m---------------------------------------------------------------------------\u001b[0m",
      "\u001b[1;31mOSError\u001b[0m                                   Traceback (most recent call last)",
      "Input \u001b[1;32mIn [10]\u001b[0m, in \u001b[0;36m<cell line: 1>\u001b[1;34m()\u001b[0m\n\u001b[1;32m----> 1\u001b[0m new_model \u001b[38;5;241m=\u001b[39m \u001b[43mtf\u001b[49m\u001b[38;5;241;43m.\u001b[39;49m\u001b[43mkeras\u001b[49m\u001b[38;5;241;43m.\u001b[39;49m\u001b[43mmodels\u001b[49m\u001b[38;5;241;43m.\u001b[39;49m\u001b[43mload_model\u001b[49m\u001b[43m(\u001b[49m\u001b[38;5;124;43m'\u001b[39;49m\u001b[38;5;124;43mModelos_entrenados/lstm_h5/lstm_2016_2020.h5\u001b[39;49m\u001b[38;5;124;43m'\u001b[39;49m\u001b[43m)\u001b[49m\n",
      "File \u001b[1;32m~\\AppData\\Local\\Programs\\Python\\Python310\\lib\\site-packages\\keras\\utils\\traceback_utils.py:70\u001b[0m, in \u001b[0;36mfilter_traceback.<locals>.error_handler\u001b[1;34m(*args, **kwargs)\u001b[0m\n\u001b[0;32m     67\u001b[0m     filtered_tb \u001b[38;5;241m=\u001b[39m _process_traceback_frames(e\u001b[38;5;241m.\u001b[39m__traceback__)\n\u001b[0;32m     68\u001b[0m     \u001b[38;5;66;03m# To get the full stack trace, call:\u001b[39;00m\n\u001b[0;32m     69\u001b[0m     \u001b[38;5;66;03m# `tf.debugging.disable_traceback_filtering()`\u001b[39;00m\n\u001b[1;32m---> 70\u001b[0m     \u001b[38;5;28;01mraise\u001b[39;00m e\u001b[38;5;241m.\u001b[39mwith_traceback(filtered_tb) \u001b[38;5;28;01mfrom\u001b[39;00m \u001b[38;5;28mNone\u001b[39m\n\u001b[0;32m     71\u001b[0m \u001b[38;5;28;01mfinally\u001b[39;00m:\n\u001b[0;32m     72\u001b[0m     \u001b[38;5;28;01mdel\u001b[39;00m filtered_tb\n",
      "File \u001b[1;32m~\\AppData\\Local\\Programs\\Python\\Python310\\lib\\site-packages\\keras\\saving\\legacy\\save.py:227\u001b[0m, in \u001b[0;36mload_model\u001b[1;34m(filepath, custom_objects, compile, options)\u001b[0m\n\u001b[0;32m    225\u001b[0m \u001b[38;5;28;01mif\u001b[39;00m \u001b[38;5;28misinstance\u001b[39m(filepath_str, \u001b[38;5;28mstr\u001b[39m):\n\u001b[0;32m    226\u001b[0m     \u001b[38;5;28;01mif\u001b[39;00m \u001b[38;5;129;01mnot\u001b[39;00m tf\u001b[38;5;241m.\u001b[39mio\u001b[38;5;241m.\u001b[39mgfile\u001b[38;5;241m.\u001b[39mexists(filepath_str):\n\u001b[1;32m--> 227\u001b[0m         \u001b[38;5;28;01mraise\u001b[39;00m \u001b[38;5;167;01mIOError\u001b[39;00m(\n\u001b[0;32m    228\u001b[0m             \u001b[38;5;124mf\u001b[39m\u001b[38;5;124m\"\u001b[39m\u001b[38;5;124mNo file or directory found at \u001b[39m\u001b[38;5;132;01m{\u001b[39;00mfilepath_str\u001b[38;5;132;01m}\u001b[39;00m\u001b[38;5;124m\"\u001b[39m\n\u001b[0;32m    229\u001b[0m         )\n\u001b[0;32m    231\u001b[0m     \u001b[38;5;28;01mif\u001b[39;00m tf\u001b[38;5;241m.\u001b[39mio\u001b[38;5;241m.\u001b[39mgfile\u001b[38;5;241m.\u001b[39misdir(filepath_str):\n\u001b[0;32m    232\u001b[0m         \u001b[38;5;28;01mreturn\u001b[39;00m saved_model_load\u001b[38;5;241m.\u001b[39mload(\n\u001b[0;32m    233\u001b[0m             filepath_str, \u001b[38;5;28mcompile\u001b[39m, options\n\u001b[0;32m    234\u001b[0m         )\n",
      "\u001b[1;31mOSError\u001b[0m: No file or directory found at Modelos_entrenados/lstm_h5/lstm_2016_2020.h5"
     ]
    }
   ],
   "source": [
    "new_model = tf.keras.models.load_model('Modelos_entrenados/lstm_h5/lstm_2016_2020.h5')"
   ]
  },
  {
   "cell_type": "code",
   "execution_count": 11,
   "id": "bf7504ca",
   "metadata": {},
   "outputs": [
    {
     "ename": "NameError",
     "evalue": "name 'new_model' is not defined",
     "output_type": "error",
     "traceback": [
      "\u001b[1;31m---------------------------------------------------------------------------\u001b[0m",
      "\u001b[1;31mNameError\u001b[0m                                 Traceback (most recent call last)",
      "Input \u001b[1;32mIn [11]\u001b[0m, in \u001b[0;36m<cell line: 1>\u001b[1;34m()\u001b[0m\n\u001b[1;32m----> 1\u001b[0m new_predictions \u001b[38;5;241m=\u001b[39m \u001b[43mnew_model\u001b[49m\u001b[38;5;241m.\u001b[39mpredict(X)\n",
      "\u001b[1;31mNameError\u001b[0m: name 'new_model' is not defined"
     ]
    }
   ],
   "source": [
    "new_predictions = new_model.predict(X)"
   ]
  },
  {
   "cell_type": "code",
   "execution_count": 12,
   "id": "0030d819",
   "metadata": {},
   "outputs": [
    {
     "ename": "NameError",
     "evalue": "name 'new_predictions' is not defined",
     "output_type": "error",
     "traceback": [
      "\u001b[1;31m---------------------------------------------------------------------------\u001b[0m",
      "\u001b[1;31mNameError\u001b[0m                                 Traceback (most recent call last)",
      "Input \u001b[1;32mIn [12]\u001b[0m, in \u001b[0;36m<cell line: 1>\u001b[1;34m()\u001b[0m\n\u001b[1;32m----> 1\u001b[0m \u001b[43mnew_predictions\u001b[49m\n",
      "\u001b[1;31mNameError\u001b[0m: name 'new_predictions' is not defined"
     ]
    }
   ],
   "source": [
    "new_predictions"
   ]
  },
  {
   "cell_type": "code",
   "execution_count": 12,
   "id": "05adaf11",
   "metadata": {},
   "outputs": [
    {
     "data": {
      "text/plain": [
       "(355, 1)"
      ]
     },
     "execution_count": 12,
     "metadata": {},
     "output_type": "execute_result"
    }
   ],
   "source": [
    "new_predictions.shape"
   ]
  },
  {
   "cell_type": "code",
   "execution_count": 13,
   "id": "b0640ee7",
   "metadata": {},
   "outputs": [
    {
     "data": {
      "text/plain": [
       "(355,)"
      ]
     },
     "execution_count": 13,
     "metadata": {},
     "output_type": "execute_result"
    }
   ],
   "source": [
    "new_predictions= target_scaler.inverse_transform(new_predictions)\n",
    "y = new_predictions.reshape(-1)\n",
    "y.shape"
   ]
  },
  {
   "cell_type": "code",
   "execution_count": 14,
   "id": "150af977",
   "metadata": {
    "scrolled": true
   },
   "outputs": [
    {
     "name": "stderr",
     "output_type": "stream",
     "text": [
      "C:\\Users\\Romina\\AppData\\Local\\Temp\\ipykernel_6000\\1096220400.py:2: SettingWithCopyWarning: \n",
      "A value is trying to be set on a copy of a slice from a DataFrame.\n",
      "Try using .loc[row_indexer,col_indexer] = value instead\n",
      "\n",
      "See the caveats in the documentation: https://pandas.pydata.org/pandas-docs/stable/user_guide/indexing.html#returning-a-view-versus-a-copy\n",
      "  df_past.fecha = pd.to_datetime(df_past.fecha, format=\"%Y-%m-%d\")\n",
      "C:\\Users\\Romina\\AppData\\Local\\Temp\\ipykernel_6000\\1096220400.py:3: SettingWithCopyWarning: \n",
      "A value is trying to be set on a copy of a slice from a DataFrame\n",
      "\n",
      "See the caveats in the documentation: https://pandas.pydata.org/pandas-docs/stable/user_guide/indexing.html#returning-a-view-versus-a-copy\n",
      "  df_past.rename(columns={'index': 'fecha', 'precio_total': 'Actual'}, inplace=True)\n"
     ]
    },
    {
     "data": {
      "text/html": [
       "<div>\n",
       "<style scoped>\n",
       "    .dataframe tbody tr th:only-of-type {\n",
       "        vertical-align: middle;\n",
       "    }\n",
       "\n",
       "    .dataframe tbody tr th {\n",
       "        vertical-align: top;\n",
       "    }\n",
       "\n",
       "    .dataframe thead th {\n",
       "        text-align: right;\n",
       "    }\n",
       "</style>\n",
       "<table border=\"1\" class=\"dataframe\">\n",
       "  <thead>\n",
       "    <tr style=\"text-align: right;\">\n",
       "      <th></th>\n",
       "      <th>fecha</th>\n",
       "      <th>Actual</th>\n",
       "    </tr>\n",
       "  </thead>\n",
       "  <tbody>\n",
       "    <tr>\n",
       "      <th>0</th>\n",
       "      <td>2021-01-01</td>\n",
       "      <td>70.37</td>\n",
       "    </tr>\n",
       "    <tr>\n",
       "      <th>1</th>\n",
       "      <td>2021-01-02</td>\n",
       "      <td>70.37</td>\n",
       "    </tr>\n",
       "    <tr>\n",
       "      <th>2</th>\n",
       "      <td>2021-01-03</td>\n",
       "      <td>70.37</td>\n",
       "    </tr>\n",
       "    <tr>\n",
       "      <th>3</th>\n",
       "      <td>2021-01-04</td>\n",
       "      <td>70.37</td>\n",
       "    </tr>\n",
       "    <tr>\n",
       "      <th>4</th>\n",
       "      <td>2021-01-05</td>\n",
       "      <td>70.37</td>\n",
       "    </tr>\n",
       "    <tr>\n",
       "      <th>...</th>\n",
       "      <td>...</td>\n",
       "      <td>...</td>\n",
       "    </tr>\n",
       "    <tr>\n",
       "      <th>725</th>\n",
       "      <td>2022-12-27</td>\n",
       "      <td>146.59</td>\n",
       "    </tr>\n",
       "    <tr>\n",
       "      <th>726</th>\n",
       "      <td>2022-12-28</td>\n",
       "      <td>146.59</td>\n",
       "    </tr>\n",
       "    <tr>\n",
       "      <th>727</th>\n",
       "      <td>2022-12-29</td>\n",
       "      <td>146.59</td>\n",
       "    </tr>\n",
       "    <tr>\n",
       "      <th>728</th>\n",
       "      <td>2022-12-30</td>\n",
       "      <td>146.59</td>\n",
       "    </tr>\n",
       "    <tr>\n",
       "      <th>729</th>\n",
       "      <td>2022-12-31</td>\n",
       "      <td>146.59</td>\n",
       "    </tr>\n",
       "  </tbody>\n",
       "</table>\n",
       "<p>730 rows × 2 columns</p>\n",
       "</div>"
      ],
      "text/plain": [
       "         fecha  Actual\n",
       "0   2021-01-01   70.37\n",
       "1   2021-01-02   70.37\n",
       "2   2021-01-03   70.37\n",
       "3   2021-01-04   70.37\n",
       "4   2021-01-05   70.37\n",
       "..         ...     ...\n",
       "725 2022-12-27  146.59\n",
       "726 2022-12-28  146.59\n",
       "727 2022-12-29  146.59\n",
       "728 2022-12-30  146.59\n",
       "729 2022-12-31  146.59\n",
       "\n",
       "[730 rows x 2 columns]"
      ]
     },
     "execution_count": 14,
     "metadata": {},
     "output_type": "execute_result"
    }
   ],
   "source": [
    "df_past = data_total[['fecha', 'precio_total']]\n",
    "df_past.fecha = pd.to_datetime(df_past.fecha, format=\"%Y-%m-%d\")\n",
    "df_past.rename(columns={'index': 'fecha', 'precio_total': 'Actual'}, inplace=True)\n",
    "\n",
    "df_past"
   ]
  },
  {
   "cell_type": "code",
   "execution_count": 15,
   "id": "525deff4",
   "metadata": {},
   "outputs": [
    {
     "data": {
      "text/html": [
       "<div>\n",
       "<style scoped>\n",
       "    .dataframe tbody tr th:only-of-type {\n",
       "        vertical-align: middle;\n",
       "    }\n",
       "\n",
       "    .dataframe tbody tr th {\n",
       "        vertical-align: top;\n",
       "    }\n",
       "\n",
       "    .dataframe thead th {\n",
       "        text-align: right;\n",
       "    }\n",
       "</style>\n",
       "<table border=\"1\" class=\"dataframe\">\n",
       "  <thead>\n",
       "    <tr style=\"text-align: right;\">\n",
       "      <th></th>\n",
       "      <th>fecha</th>\n",
       "      <th>Actual</th>\n",
       "      <th>Forecast</th>\n",
       "    </tr>\n",
       "  </thead>\n",
       "  <tbody>\n",
       "    <tr>\n",
       "      <th>0</th>\n",
       "      <td>2021-01-01</td>\n",
       "      <td>70.37</td>\n",
       "      <td>0.000000</td>\n",
       "    </tr>\n",
       "    <tr>\n",
       "      <th>1</th>\n",
       "      <td>2021-01-02</td>\n",
       "      <td>70.37</td>\n",
       "      <td>0.000000</td>\n",
       "    </tr>\n",
       "    <tr>\n",
       "      <th>2</th>\n",
       "      <td>2021-01-03</td>\n",
       "      <td>70.37</td>\n",
       "      <td>0.000000</td>\n",
       "    </tr>\n",
       "    <tr>\n",
       "      <th>3</th>\n",
       "      <td>2021-01-04</td>\n",
       "      <td>70.37</td>\n",
       "      <td>0.000000</td>\n",
       "    </tr>\n",
       "    <tr>\n",
       "      <th>4</th>\n",
       "      <td>2021-01-05</td>\n",
       "      <td>70.37</td>\n",
       "      <td>0.000000</td>\n",
       "    </tr>\n",
       "    <tr>\n",
       "      <th>...</th>\n",
       "      <td>...</td>\n",
       "      <td>...</td>\n",
       "      <td>...</td>\n",
       "    </tr>\n",
       "    <tr>\n",
       "      <th>725</th>\n",
       "      <td>2022-12-27</td>\n",
       "      <td>146.59</td>\n",
       "      <td>138.123718</td>\n",
       "    </tr>\n",
       "    <tr>\n",
       "      <th>726</th>\n",
       "      <td>2022-12-28</td>\n",
       "      <td>146.59</td>\n",
       "      <td>138.991425</td>\n",
       "    </tr>\n",
       "    <tr>\n",
       "      <th>727</th>\n",
       "      <td>2022-12-29</td>\n",
       "      <td>146.59</td>\n",
       "      <td>138.892181</td>\n",
       "    </tr>\n",
       "    <tr>\n",
       "      <th>728</th>\n",
       "      <td>2022-12-30</td>\n",
       "      <td>146.59</td>\n",
       "      <td>138.231674</td>\n",
       "    </tr>\n",
       "    <tr>\n",
       "      <th>729</th>\n",
       "      <td>2022-12-31</td>\n",
       "      <td>146.59</td>\n",
       "      <td>137.167786</td>\n",
       "    </tr>\n",
       "  </tbody>\n",
       "</table>\n",
       "<p>730 rows × 3 columns</p>\n",
       "</div>"
      ],
      "text/plain": [
       "         fecha  Actual    Forecast\n",
       "0   2021-01-01   70.37    0.000000\n",
       "1   2021-01-02   70.37    0.000000\n",
       "2   2021-01-03   70.37    0.000000\n",
       "3   2021-01-04   70.37    0.000000\n",
       "4   2021-01-05   70.37    0.000000\n",
       "..         ...     ...         ...\n",
       "725 2022-12-27  146.59  138.123718\n",
       "726 2022-12-28  146.59  138.991425\n",
       "727 2022-12-29  146.59  138.892181\n",
       "728 2022-12-30  146.59  138.231674\n",
       "729 2022-12-31  146.59  137.167786\n",
       "\n",
       "[730 rows x 3 columns]"
      ]
     },
     "execution_count": 15,
     "metadata": {},
     "output_type": "execute_result"
    }
   ],
   "source": [
    "# df_future = pd.DataFrame(columns=['fecha', 'Actual', 'Forecast'])\n",
    "start_date= (df_past['fecha'] + pd.Timedelta(days=timesteps + future_steps)).iloc[0]\n",
    "# start_date= df_past['fecha'].iloc[0]\n",
    "end_date= df_past['fecha'].iloc[-1]\n",
    "\n",
    "df_future= pd.DataFrame(\n",
    "    columns=[\n",
    "        \"fecha\",\n",
    "        \"Forecast\", \n",
    "     ],)\n",
    "\n",
    "df_future['fecha'] = pd.date_range(start_date, end_date)\n",
    "df_future['Forecast'] = y.flatten()\n",
    "\n",
    "\n",
    "results = df_pbi_deuda = (pd.merge(df_past, df_future, on='fecha', how='left'))\n",
    "results.fillna(0, inplace=True)\n",
    "results"
   ]
  },
  {
   "cell_type": "code",
   "execution_count": 16,
   "id": "583d6665",
   "metadata": {},
   "outputs": [],
   "source": [
    "results.to_csv('Data_diario/load_predict_2021-2022_10days.csv', index=False)"
   ]
  },
  {
   "cell_type": "code",
   "execution_count": 17,
   "id": "d83f0c15",
   "metadata": {},
   "outputs": [
    {
     "data": {
      "text/plain": [
       "<matplotlib.legend.Legend at 0x2958d4ce8c0>"
      ]
     },
     "execution_count": 17,
     "metadata": {},
     "output_type": "execute_result"
    },
    {
     "data": {
      "image/png": "[encoded data removed]",
      "text/plain": [
       "<Figure size 1600x700 with 1 Axes>"
      ]
     },
     "metadata": {},
     "output_type": "display_data"
    }
   ],
   "source": [
    "plt.figure(figsize=(16,7))\n",
    "plt.plot(results['fecha'], results['Actual'],color='blue', label='fecha')\n",
    "plt.plot(results['fecha'], results['Forecast'],color='green', label='fecha')\n",
    "plt.legend()"
   ]
  },
  {
   "cell_type": "markdown",
   "id": "c7e54d4e",
   "metadata": {},
   "source": [
    "# Metricas"
   ]
  },
  {
   "cell_type": "code",
   "execution_count": 18,
   "id": "b3361745",
   "metadata": {},
   "outputs": [
    {
     "name": "stdout",
     "output_type": "stream",
     "text": [
      "Resultado del test: 105.51 MSE\n"
     ]
    }
   ],
   "source": [
    "# MSE\n",
    "testScore = math.sqrt(mean_squared_error(results['Actual'], results['Forecast']))\n",
    "print('Resultado del test: %.2f MSE' % (testScore))"
   ]
  },
  {
   "cell_type": "code",
   "execution_count": 19,
   "id": "e343423f",
   "metadata": {},
   "outputs": [
    {
     "name": "stdout",
     "output_type": "stream",
     "text": [
      "Resultado del test: -1.26 R2_SCORE\n"
     ]
    }
   ],
   "source": [
    "r2Score_test= r2_score(results['Actual'], results['Forecast'])\n",
    "print('Resultado del test: %.2f R2_SCORE' % (r2Score_test))"
   ]
  },
  {
   "cell_type": "code",
   "execution_count": 20,
   "id": "2cd6cd62",
   "metadata": {},
   "outputs": [
    {
     "name": "stdout",
     "output_type": "stream",
     "text": [
      "Resultado del test: 78.28 MAE\n"
     ]
    }
   ],
   "source": [
    "# mae\n",
    "mae_test = mean_absolute_error(results['Actual'], results['Forecast'])\n",
    "print('Resultado del test: %.2f MAE' % (mae_test))"
   ]
  },
  {
   "cell_type": "code",
   "execution_count": 21,
   "id": "45de4858",
   "metadata": {},
   "outputs": [
    {
     "data": {
      "text/plain": [
       "array([[212.20618],\n",
       "       [214.17227],\n",
       "       [215.917  ],\n",
       "       [217.06398],\n",
       "       [216.91261],\n",
       "       [216.09988],\n",
       "       [214.95998],\n",
       "       [213.98422],\n",
       "       [212.1039 ],\n",
       "       [210.14647],\n",
       "       [209.95314],\n",
       "       [210.31256],\n",
       "       [210.64786],\n",
       "       [211.52486],\n",
       "       [212.05649],\n",
       "       [209.67482],\n",
       "       [206.09286],\n",
       "       [202.9779 ],\n",
       "       [198.42354],\n",
       "       [192.03664],\n",
       "       [184.94917],\n",
       "       [178.64124],\n",
       "       [174.52724],\n",
       "       [172.88574],\n",
       "       [172.6941 ],\n",
       "       [172.36432],\n",
       "       [171.98886],\n",
       "       [171.74994],\n",
       "       [171.79071],\n",
       "       [173.27899],\n",
       "       [176.34688],\n",
       "       [179.08734],\n",
       "       [181.66347],\n",
       "       [184.47633],\n",
       "       [187.59836],\n",
       "       [191.0392 ],\n",
       "       [195.43744],\n",
       "       [200.51974],\n",
       "       [204.64754],\n",
       "       [208.52814],\n",
       "       [211.92828],\n",
       "       [214.47562],\n",
       "       [215.78618],\n",
       "       [216.17099],\n",
       "       [215.26231],\n",
       "       [212.94945],\n",
       "       [209.29674],\n",
       "       [203.84169],\n",
       "       [197.14563],\n",
       "       [188.44725],\n",
       "       [178.5431 ],\n",
       "       [168.78091],\n",
       "       [159.66109],\n",
       "       [151.47137],\n",
       "       [144.93707],\n",
       "       [140.34813],\n",
       "       [137.97269],\n",
       "       [138.18546],\n",
       "       [140.6372 ],\n",
       "       [144.10168],\n",
       "       [152.39676],\n",
       "       [162.15425],\n",
       "       [171.77618],\n",
       "       [180.54453],\n",
       "       [188.85202],\n",
       "       [196.86497],\n",
       "       [204.26628],\n",
       "       [210.5613 ],\n",
       "       [216.1705 ],\n",
       "       [221.465  ],\n",
       "       [226.63834],\n",
       "       [232.10931],\n",
       "       [238.77669],\n",
       "       [245.93655],\n",
       "       [253.21877],\n",
       "       [261.0994 ],\n",
       "       [268.17612],\n",
       "       [276.0969 ],\n",
       "       [284.01724],\n",
       "       [292.6921 ],\n",
       "       [302.32187],\n",
       "       [310.92566],\n",
       "       [318.04813],\n",
       "       [323.64987],\n",
       "       [327.98965],\n",
       "       [329.97134],\n",
       "       [329.75125],\n",
       "       [331.17957],\n",
       "       [332.38428],\n",
       "       [330.4421 ],\n",
       "       [325.46027],\n",
       "       [310.32468],\n",
       "       [291.4865 ],\n",
       "       [271.9795 ],\n",
       "       [256.1367 ],\n",
       "       [243.86354],\n",
       "       [232.34155],\n",
       "       [218.8598 ],\n",
       "       [205.80052],\n",
       "       [194.51393],\n",
       "       [184.4052 ],\n",
       "       [177.58139],\n",
       "       [174.91046],\n",
       "       [174.13335],\n",
       "       [174.52426],\n",
       "       [177.45126],\n",
       "       [182.09473],\n",
       "       [187.8697 ],\n",
       "       [194.28105],\n",
       "       [200.12973],\n",
       "       [204.92319],\n",
       "       [209.32578],\n",
       "       [213.56595],\n",
       "       [216.1793 ],\n",
       "       [218.89236],\n",
       "       [222.96094],\n",
       "       [227.10617],\n",
       "       [230.44157],\n",
       "       [231.67233],\n",
       "       [231.59824],\n",
       "       [228.99768],\n",
       "       [225.03632],\n",
       "       [221.31589],\n",
       "       [218.11751],\n",
       "       [215.15782],\n",
       "       [212.3681 ],\n",
       "       [209.80481],\n",
       "       [207.47179],\n",
       "       [205.71625],\n",
       "       [206.07416],\n",
       "       [206.99527],\n",
       "       [207.45473],\n",
       "       [208.11575],\n",
       "       [208.6202 ],\n",
       "       [207.70734],\n",
       "       [205.58603],\n",
       "       [205.22728],\n",
       "       [205.67097],\n",
       "       [206.38992],\n",
       "       [206.3713 ],\n",
       "       [205.92395],\n",
       "       [204.22328],\n",
       "       [202.71509],\n",
       "       [202.39102],\n",
       "       [202.36865],\n",
       "       [202.27681],\n",
       "       [202.07759],\n",
       "       [201.90248],\n",
       "       [202.05913],\n",
       "       [203.02892],\n",
       "       [205.91626],\n",
       "       [209.2381 ],\n",
       "       [212.22131],\n",
       "       [214.71753],\n",
       "       [216.7255 ],\n",
       "       [217.3908 ],\n",
       "       [217.46915],\n",
       "       [218.0228 ],\n",
       "       [218.99745],\n",
       "       [219.17079],\n",
       "       [218.85576],\n",
       "       [218.17372],\n",
       "       [216.5361 ],\n",
       "       [215.02246],\n",
       "       [215.85013],\n",
       "       [217.97878],\n",
       "       [219.9654 ],\n",
       "       [220.69963],\n",
       "       [219.6655 ],\n",
       "       [216.30754],\n",
       "       [212.91516],\n",
       "       [211.5932 ],\n",
       "       [210.71744],\n",
       "       [209.93153],\n",
       "       [209.41216],\n",
       "       [208.64511],\n",
       "       [208.88339],\n",
       "       [210.01117],\n",
       "       [212.01134],\n",
       "       [215.02025],\n",
       "       [217.58942],\n",
       "       [219.61897],\n",
       "       [223.14624],\n",
       "       [227.12952],\n",
       "       [231.1327 ],\n",
       "       [235.83975],\n",
       "       [239.39471],\n",
       "       [241.7327 ],\n",
       "       [242.90361],\n",
       "       [243.92998],\n",
       "       [244.64693],\n",
       "       [245.611  ],\n",
       "       [247.59322],\n",
       "       [248.72046],\n",
       "       [249.01616],\n",
       "       [247.74727],\n",
       "       [245.3751 ],\n",
       "       [241.80634],\n",
       "       [237.13913],\n",
       "       [232.64589],\n",
       "       [226.38461],\n",
       "       [219.54227],\n",
       "       [211.47319],\n",
       "       [202.22192],\n",
       "       [192.95148],\n",
       "       [185.1022 ],\n",
       "       [179.05103],\n",
       "       [174.13164],\n",
       "       [170.71391],\n",
       "       [168.88931],\n",
       "       [168.41167],\n",
       "       [169.65767],\n",
       "       [172.63977],\n",
       "       [177.64339],\n",
       "       [182.79227],\n",
       "       [187.6642 ],\n",
       "       [192.16028],\n",
       "       [196.34253],\n",
       "       [200.74666],\n",
       "       [205.31406],\n",
       "       [208.9081 ],\n",
       "       [211.6246 ],\n",
       "       [213.69028],\n",
       "       [215.2577 ],\n",
       "       [216.33984],\n",
       "       [217.35545],\n",
       "       [218.62462],\n",
       "       [219.92877],\n",
       "       [220.62155],\n",
       "       [220.81883],\n",
       "       [220.752  ],\n",
       "       [220.67139],\n",
       "       [220.83244],\n",
       "       [220.83432],\n",
       "       [220.7976 ],\n",
       "       [221.20827],\n",
       "       [221.51874],\n",
       "       [221.3127 ],\n",
       "       [220.7346 ],\n",
       "       [220.95505],\n",
       "       [221.51994],\n",
       "       [223.15225],\n",
       "       [225.32922],\n",
       "       [226.97778],\n",
       "       [225.7524 ],\n",
       "       [223.44193],\n",
       "       [220.86143],\n",
       "       [219.2952 ],\n",
       "       [219.92802],\n",
       "       [221.6042 ],\n",
       "       [223.72914],\n",
       "       [226.17519],\n",
       "       [228.61163],\n",
       "       [231.11243],\n",
       "       [233.74863],\n",
       "       [236.60349],\n",
       "       [238.13832],\n",
       "       [240.05975],\n",
       "       [242.19844],\n",
       "       [243.12749],\n",
       "       [243.94289],\n",
       "       [245.17612],\n",
       "       [247.66508],\n",
       "       [249.87613],\n",
       "       [251.5279 ],\n",
       "       [252.96094],\n",
       "       [253.33813],\n",
       "       [251.8241 ],\n",
       "       [249.8065 ],\n",
       "       [249.19196],\n",
       "       [248.29643],\n",
       "       [246.49911],\n",
       "       [244.59885],\n",
       "       [243.31216],\n",
       "       [236.1672 ],\n",
       "       [227.47072],\n",
       "       [221.06186],\n",
       "       [214.91261],\n",
       "       [208.77086],\n",
       "       [202.38849],\n",
       "       [197.69571],\n",
       "       [192.5253 ],\n",
       "       [188.3141 ],\n",
       "       [187.08865],\n",
       "       [187.04787],\n",
       "       [186.32587],\n",
       "       [186.37813],\n",
       "       [185.91617],\n",
       "       [184.38077],\n",
       "       [181.44348],\n",
       "       [180.17297],\n",
       "       [178.68716],\n",
       "       [177.07613],\n",
       "       [175.84337],\n",
       "       [175.34447],\n",
       "       [173.87013],\n",
       "       [172.06456],\n",
       "       [171.99553],\n",
       "       [172.2532 ],\n",
       "       [173.21286],\n",
       "       [172.44594],\n",
       "       [171.62112],\n",
       "       [170.3404 ],\n",
       "       [170.18594],\n",
       "       [169.70508],\n",
       "       [167.4452 ],\n",
       "       [165.68527],\n",
       "       [162.30496],\n",
       "       [159.25572],\n",
       "       [157.37257],\n",
       "       [154.45393],\n",
       "       [152.00713],\n",
       "       [149.49608],\n",
       "       [148.9173 ],\n",
       "       [149.35046],\n",
       "       [148.14023],\n",
       "       [145.6331 ],\n",
       "       [143.64397],\n",
       "       [143.11366],\n",
       "       [141.0178 ],\n",
       "       [138.539  ],\n",
       "       [136.05449],\n",
       "       [134.53618],\n",
       "       [132.70808],\n",
       "       [131.55128],\n",
       "       [130.12825],\n",
       "       [128.671  ],\n",
       "       [127.88904],\n",
       "       [128.82368],\n",
       "       [129.60767],\n",
       "       [130.2774 ],\n",
       "       [130.80617],\n",
       "       [130.23529],\n",
       "       [130.60199],\n",
       "       [132.56981],\n",
       "       [134.30902],\n",
       "       [137.19093],\n",
       "       [139.58307],\n",
       "       [141.2836 ],\n",
       "       [142.62935],\n",
       "       [144.88235],\n",
       "       [147.00626],\n",
       "       [146.61461],\n",
       "       [146.0344 ],\n",
       "       [144.77332],\n",
       "       [144.21536],\n",
       "       [142.42604],\n",
       "       [140.48541],\n",
       "       [138.63327],\n",
       "       [138.18654],\n",
       "       [138.12372],\n",
       "       [138.99142],\n",
       "       [138.89218],\n",
       "       [138.23167],\n",
       "       [137.16779]], dtype=float32)"
      ]
     },
     "execution_count": 21,
     "metadata": {},
     "output_type": "execute_result"
    }
   ],
   "source": [
    "new_predictions"
   ]
  },
  {
   "cell_type": "code",
   "execution_count": null,
   "id": "a05d8dc8",
   "metadata": {},
   "outputs": [],
   "source": []
  }
 ],
 "metadata": {
  "kernelspec": {
   "display_name": "Python 3 (ipykernel)",
   "language": "python",
   "name": "python3"
  },
  "language_info": {
   "codemirror_mode": {
    "name": "ipython",
    "version": 3
   },
   "file_extension": ".py",
   "mimetype": "text/x-python",
   "name": "python",
   "nbconvert_exporter": "python",
   "pygments_lexer": "ipython3",
   "version": "3.10.8"
  }
 },
 "nbformat": 4,
 "nbformat_minor": 5
}
