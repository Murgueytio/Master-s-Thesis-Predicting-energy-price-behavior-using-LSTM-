{
 "cells": [
  {
   "cell_type": "code",
   "execution_count": 1,
   "id": "a3316d67",
   "metadata": {},
   "outputs": [],
   "source": [
    "%config IPCompleter.use_jedi=False\n",
    "import pandas as pd\n",
    "import numpy as np\n",
    "import math\n",
    "from datetime import datetime\n",
    "from matplotlib import pyplot as plt\n",
    "import os\n",
    "import tensorflow as tf\n",
    "from tensorflow import keras\n",
    "from tensorflow.keras.callbacks import EarlyStopping, History, TensorBoard, Callback, LearningRateScheduler\n",
    "from tensorflow.keras.layers import Embedding, LSTM, Dense, Dropout, Input, RepeatVector\n",
    "from tensorflow.keras import Sequential\n",
    "from tensorflow.keras.utils import plot_model\n",
    "from tensorflow.keras.optimizers import RMSprop\n",
    "from tensorflow.keras.preprocessing.text import Tokenizer\n",
    "from tensorflow.keras.preprocessing.sequence import pad_sequences\n",
    "from sklearn.model_selection import train_test_split\n",
    "from sklearn.preprocessing import MinMaxScaler\n",
    "from sklearn.metrics import mean_squared_error, r2_score,mean_absolute_error,mean_absolute_percentage_error\n",
    "import seaborn as sns\n",
    "\n",
    "# plt.style.use('seaborn')\n",
    "plt.style.use('fivethirtyeight')"
   ]
  },
  {
   "cell_type": "code",
   "execution_count": 2,
   "id": "2498b7eb",
   "metadata": {},
   "outputs": [],
   "source": [
    "data_total = pd.read_csv('Data_diario/diario_total_2016-2020.csv', sep=\",\")\n",
    "data = data_total[['fecha','emisionesCo2_tCO2', 'bret_valor_usd', 'demanda', 'pbi_valor_millones','precio_total']]\n",
    "data = data.set_index('fecha')\n",
    "features = data.columns"
   ]
  },
  {
   "cell_type": "code",
   "execution_count": 3,
   "id": "46674f3a",
   "metadata": {},
   "outputs": [
    {
     "data": {
      "text/plain": [
       "(5,)"
      ]
     },
     "execution_count": 3,
     "metadata": {},
     "output_type": "execute_result"
    }
   ],
   "source": [
    "features.shape"
   ]
  },
  {
   "cell_type": "code",
   "execution_count": 4,
   "id": "88a99c14",
   "metadata": {},
   "outputs": [],
   "source": [
    "# escalar - normalizar los datos\n",
    "scaler= MinMaxScaler()\n",
    "data_scaled = scaler.fit_transform(data[features])"
   ]
  },
  {
   "cell_type": "code",
   "execution_count": 5,
   "id": "affa2801",
   "metadata": {},
   "outputs": [
    {
     "data": {
      "text/plain": [
       "(1827, 5)"
      ]
     },
     "execution_count": 5,
     "metadata": {},
     "output_type": "execute_result"
    }
   ],
   "source": [
    "data_scaled.shape"
   ]
  },
  {
   "cell_type": "code",
   "execution_count": 6,
   "id": "926e8192",
   "metadata": {},
   "outputs": [],
   "source": [
    "target_precio= data_total['precio_total'].values\n",
    "target_precio= target_precio.reshape(-1,1)\n",
    "target_scaler = MinMaxScaler()\n",
    "target_scaled = target_scaler.fit_transform(target_precio)"
   ]
  },
  {
   "cell_type": "code",
   "execution_count": 7,
   "id": "f0b013c3",
   "metadata": {},
   "outputs": [
    {
     "data": {
      "text/plain": [
       "((1827, 1), (1827, 5))"
      ]
     },
     "execution_count": 7,
     "metadata": {},
     "output_type": "execute_result"
    }
   ],
   "source": [
    "target_precio.shape, data_scaled.shape"
   ]
  },
  {
   "cell_type": "code",
   "execution_count": 8,
   "id": "a2eca3dd",
   "metadata": {},
   "outputs": [],
   "source": [
    "timesteps = 365 # dias (tiempo) del pasado que se usa para predecir\n",
    "future_steps = 10 # instante de tiempo del futuro que se quiere predecir (=0 dia actual)\n",
    "\n",
    "\n",
    "X = []\n",
    "y = []\n",
    "\n",
    "\n",
    "for i in range(timesteps, len(data_scaled) - future_steps):\n",
    "    xi = [data_scaled[i - timesteps + j] for j in range(timesteps)]\n",
    "    yi = target_scaled[i+future_steps] # target\n",
    "    if not np.isnan(yi) and not np.any(np.isnan(xi)):\n",
    "        X.append(xi)\n",
    "        y.append(yi)\n",
    "\n",
    "X = np.array(X)\n",
    "y = np.array(y)"
   ]
  },
  {
   "cell_type": "code",
   "execution_count": 9,
   "id": "ef093192",
   "metadata": {},
   "outputs": [],
   "source": [
    "new_model = tf.keras.models.load_model('Modelos_entrenados/lstm_h5/lstm_2016_2020.h5')"
   ]
  },
  {
   "cell_type": "code",
   "execution_count": 10,
   "id": "bf7504ca",
   "metadata": {},
   "outputs": [
    {
     "name": "stdout",
     "output_type": "stream",
     "text": [
      "46/46 [==============================] - 5s 92ms/step\n"
     ]
    }
   ],
   "source": [
    "new_predictions = new_model.predict(X)"
   ]
  },
  {
   "cell_type": "code",
   "execution_count": 11,
   "id": "0030d819",
   "metadata": {},
   "outputs": [
    {
     "data": {
      "text/plain": [
       "array([[0.8365672 ],\n",
       "       [0.84149396],\n",
       "       [0.8687832 ],\n",
       "       ...,\n",
       "       [0.37628752],\n",
       "       [0.37660325],\n",
       "       [0.37821782]], dtype=float32)"
      ]
     },
     "execution_count": 11,
     "metadata": {},
     "output_type": "execute_result"
    }
   ],
   "source": [
    "new_predictions"
   ]
  },
  {
   "cell_type": "code",
   "execution_count": 12,
   "id": "05adaf11",
   "metadata": {},
   "outputs": [
    {
     "data": {
      "text/plain": [
       "(1452, 1)"
      ]
     },
     "execution_count": 12,
     "metadata": {},
     "output_type": "execute_result"
    }
   ],
   "source": [
    "new_predictions.shape"
   ]
  },
  {
   "cell_type": "code",
   "execution_count": 13,
   "id": "b0640ee7",
   "metadata": {},
   "outputs": [
    {
     "data": {
      "text/plain": [
       "(1452,)"
      ]
     },
     "execution_count": 13,
     "metadata": {},
     "output_type": "execute_result"
    }
   ],
   "source": [
    "new_predictions= target_scaler.inverse_transform(new_predictions)\n",
    "y = new_predictions.reshape(-1)\n",
    "y.shape"
   ]
  },
  {
   "cell_type": "code",
   "execution_count": 14,
   "id": "150af977",
   "metadata": {},
   "outputs": [
    {
     "name": "stderr",
     "output_type": "stream",
     "text": [
      "C:\\Users\\Romina\\AppData\\Local\\Temp\\ipykernel_14224\\1096220400.py:2: SettingWithCopyWarning: \n",
      "A value is trying to be set on a copy of a slice from a DataFrame.\n",
      "Try using .loc[row_indexer,col_indexer] = value instead\n",
      "\n",
      "See the caveats in the documentation: https://pandas.pydata.org/pandas-docs/stable/user_guide/indexing.html#returning-a-view-versus-a-copy\n",
      "  df_past.fecha = pd.to_datetime(df_past.fecha, format=\"%Y-%m-%d\")\n",
      "C:\\Users\\Romina\\AppData\\Local\\Temp\\ipykernel_14224\\1096220400.py:3: SettingWithCopyWarning: \n",
      "A value is trying to be set on a copy of a slice from a DataFrame\n",
      "\n",
      "See the caveats in the documentation: https://pandas.pydata.org/pandas-docs/stable/user_guide/indexing.html#returning-a-view-versus-a-copy\n",
      "  df_past.rename(columns={'index': 'fecha', 'precio_total': 'Actual'}, inplace=True)\n"
     ]
    },
    {
     "data": {
      "text/html": [
       "<div>\n",
       "<style scoped>\n",
       "    .dataframe tbody tr th:only-of-type {\n",
       "        vertical-align: middle;\n",
       "    }\n",
       "\n",
       "    .dataframe tbody tr th {\n",
       "        vertical-align: top;\n",
       "    }\n",
       "\n",
       "    .dataframe thead th {\n",
       "        text-align: right;\n",
       "    }\n",
       "</style>\n",
       "<table border=\"1\" class=\"dataframe\">\n",
       "  <thead>\n",
       "    <tr style=\"text-align: right;\">\n",
       "      <th></th>\n",
       "      <th>fecha</th>\n",
       "      <th>Actual</th>\n",
       "    </tr>\n",
       "  </thead>\n",
       "  <tbody>\n",
       "    <tr>\n",
       "      <th>0</th>\n",
       "      <td>2016-01-01</td>\n",
       "      <td>47.42</td>\n",
       "    </tr>\n",
       "    <tr>\n",
       "      <th>1</th>\n",
       "      <td>2016-01-02</td>\n",
       "      <td>47.42</td>\n",
       "    </tr>\n",
       "    <tr>\n",
       "      <th>2</th>\n",
       "      <td>2016-01-03</td>\n",
       "      <td>47.42</td>\n",
       "    </tr>\n",
       "    <tr>\n",
       "      <th>3</th>\n",
       "      <td>2016-01-04</td>\n",
       "      <td>47.42</td>\n",
       "    </tr>\n",
       "    <tr>\n",
       "      <th>4</th>\n",
       "      <td>2016-01-05</td>\n",
       "      <td>47.42</td>\n",
       "    </tr>\n",
       "    <tr>\n",
       "      <th>...</th>\n",
       "      <td>...</td>\n",
       "      <td>...</td>\n",
       "    </tr>\n",
       "    <tr>\n",
       "      <th>1822</th>\n",
       "      <td>2020-12-27</td>\n",
       "      <td>49.02</td>\n",
       "    </tr>\n",
       "    <tr>\n",
       "      <th>1823</th>\n",
       "      <td>2020-12-28</td>\n",
       "      <td>49.02</td>\n",
       "    </tr>\n",
       "    <tr>\n",
       "      <th>1824</th>\n",
       "      <td>2020-12-29</td>\n",
       "      <td>49.02</td>\n",
       "    </tr>\n",
       "    <tr>\n",
       "      <th>1825</th>\n",
       "      <td>2020-12-30</td>\n",
       "      <td>49.02</td>\n",
       "    </tr>\n",
       "    <tr>\n",
       "      <th>1826</th>\n",
       "      <td>2020-12-31</td>\n",
       "      <td>49.02</td>\n",
       "    </tr>\n",
       "  </tbody>\n",
       "</table>\n",
       "<p>1827 rows × 2 columns</p>\n",
       "</div>"
      ],
      "text/plain": [
       "          fecha  Actual\n",
       "0    2016-01-01   47.42\n",
       "1    2016-01-02   47.42\n",
       "2    2016-01-03   47.42\n",
       "3    2016-01-04   47.42\n",
       "4    2016-01-05   47.42\n",
       "...         ...     ...\n",
       "1822 2020-12-27   49.02\n",
       "1823 2020-12-28   49.02\n",
       "1824 2020-12-29   49.02\n",
       "1825 2020-12-30   49.02\n",
       "1826 2020-12-31   49.02\n",
       "\n",
       "[1827 rows x 2 columns]"
      ]
     },
     "execution_count": 14,
     "metadata": {},
     "output_type": "execute_result"
    }
   ],
   "source": [
    "df_past = data_total[['fecha', 'precio_total']]\n",
    "df_past.fecha = pd.to_datetime(df_past.fecha, format=\"%Y-%m-%d\")\n",
    "df_past.rename(columns={'index': 'fecha', 'precio_total': 'Actual'}, inplace=True)\n",
    "\n",
    "df_past"
   ]
  },
  {
   "cell_type": "code",
   "execution_count": 15,
   "id": "525deff4",
   "metadata": {},
   "outputs": [
    {
     "data": {
      "text/html": [
       "<div>\n",
       "<style scoped>\n",
       "    .dataframe tbody tr th:only-of-type {\n",
       "        vertical-align: middle;\n",
       "    }\n",
       "\n",
       "    .dataframe tbody tr th {\n",
       "        vertical-align: top;\n",
       "    }\n",
       "\n",
       "    .dataframe thead th {\n",
       "        text-align: right;\n",
       "    }\n",
       "</style>\n",
       "<table border=\"1\" class=\"dataframe\">\n",
       "  <thead>\n",
       "    <tr style=\"text-align: right;\">\n",
       "      <th></th>\n",
       "      <th>fecha</th>\n",
       "      <th>Actual</th>\n",
       "      <th>Forecast</th>\n",
       "    </tr>\n",
       "  </thead>\n",
       "  <tbody>\n",
       "    <tr>\n",
       "      <th>0</th>\n",
       "      <td>2016-01-01</td>\n",
       "      <td>47.42</td>\n",
       "      <td>0.000000</td>\n",
       "    </tr>\n",
       "    <tr>\n",
       "      <th>1</th>\n",
       "      <td>2016-01-02</td>\n",
       "      <td>47.42</td>\n",
       "      <td>0.000000</td>\n",
       "    </tr>\n",
       "    <tr>\n",
       "      <th>2</th>\n",
       "      <td>2016-01-03</td>\n",
       "      <td>47.42</td>\n",
       "      <td>0.000000</td>\n",
       "    </tr>\n",
       "    <tr>\n",
       "      <th>3</th>\n",
       "      <td>2016-01-04</td>\n",
       "      <td>47.42</td>\n",
       "      <td>0.000000</td>\n",
       "    </tr>\n",
       "    <tr>\n",
       "      <th>4</th>\n",
       "      <td>2016-01-05</td>\n",
       "      <td>47.42</td>\n",
       "      <td>0.000000</td>\n",
       "    </tr>\n",
       "    <tr>\n",
       "      <th>...</th>\n",
       "      <td>...</td>\n",
       "      <td>...</td>\n",
       "      <td>...</td>\n",
       "    </tr>\n",
       "    <tr>\n",
       "      <th>1822</th>\n",
       "      <td>2020-12-27</td>\n",
       "      <td>49.02</td>\n",
       "      <td>46.314873</td>\n",
       "    </tr>\n",
       "    <tr>\n",
       "      <th>1823</th>\n",
       "      <td>2020-12-28</td>\n",
       "      <td>49.02</td>\n",
       "      <td>46.459297</td>\n",
       "    </tr>\n",
       "    <tr>\n",
       "      <th>1824</th>\n",
       "      <td>2020-12-29</td>\n",
       "      <td>49.02</td>\n",
       "      <td>46.492512</td>\n",
       "    </tr>\n",
       "    <tr>\n",
       "      <th>1825</th>\n",
       "      <td>2020-12-30</td>\n",
       "      <td>49.02</td>\n",
       "      <td>46.510296</td>\n",
       "    </tr>\n",
       "    <tr>\n",
       "      <th>1826</th>\n",
       "      <td>2020-12-31</td>\n",
       "      <td>49.02</td>\n",
       "      <td>46.601227</td>\n",
       "    </tr>\n",
       "  </tbody>\n",
       "</table>\n",
       "<p>1827 rows × 3 columns</p>\n",
       "</div>"
      ],
      "text/plain": [
       "          fecha  Actual   Forecast\n",
       "0    2016-01-01   47.42   0.000000\n",
       "1    2016-01-02   47.42   0.000000\n",
       "2    2016-01-03   47.42   0.000000\n",
       "3    2016-01-04   47.42   0.000000\n",
       "4    2016-01-05   47.42   0.000000\n",
       "...         ...     ...        ...\n",
       "1822 2020-12-27   49.02  46.314873\n",
       "1823 2020-12-28   49.02  46.459297\n",
       "1824 2020-12-29   49.02  46.492512\n",
       "1825 2020-12-30   49.02  46.510296\n",
       "1826 2020-12-31   49.02  46.601227\n",
       "\n",
       "[1827 rows x 3 columns]"
      ]
     },
     "execution_count": 15,
     "metadata": {},
     "output_type": "execute_result"
    }
   ],
   "source": [
    "# df_future = pd.DataFrame(columns=['fecha', 'Actual', 'Forecast'])\n",
    "start_date= (df_past['fecha'] + pd.Timedelta(days=timesteps + future_steps)).iloc[0]\n",
    "# start_date= df_past['fecha'].iloc[0]\n",
    "end_date= df_past['fecha'].iloc[-1]\n",
    "\n",
    "df_future= pd.DataFrame(\n",
    "    columns=[\n",
    "        \"fecha\",\n",
    "        \"Forecast\", \n",
    "     ],)\n",
    "\n",
    "df_future['fecha'] = pd.date_range(start_date, end_date)\n",
    "df_future['Forecast'] = y.flatten()\n",
    "\n",
    "\n",
    "results = df_pbi_deuda = (pd.merge(df_past, df_future, on='fecha', how='left'))\n",
    "results.fillna(0, inplace=True)\n",
    "results"
   ]
  },
  {
   "cell_type": "code",
   "execution_count": 16,
   "id": "583d6665",
   "metadata": {},
   "outputs": [],
   "source": [
    "results.to_csv('Data_diario/load_predict_2016-2020_10days.csv', index=False)"
   ]
  },
  {
   "cell_type": "code",
   "execution_count": 17,
   "id": "d83f0c15",
   "metadata": {
    "scrolled": true
   },
   "outputs": [
    {
     "data": {
      "text/plain": [
       "<matplotlib.legend.Legend at 0x280d3ca7640>"
      ]
     },
     "execution_count": 17,
     "metadata": {},
     "output_type": "execute_result"
    },
    {
     "data": {
      "image/png": "[encoded data removed]",
      "text/plain": [
       "<Figure size 1600x700 with 1 Axes>"
      ]
     },
     "metadata": {},
     "output_type": "display_data"
    }
   ],
   "source": [
    "plt.figure(figsize=(16,7))\n",
    "plt.plot(results['fecha'], results['Actual'],color='blue', label='fecha')\n",
    "plt.plot(results['fecha'], results['Forecast'],color='green', label='fecha')\n",
    "plt.legend()"
   ]
  },
  {
   "cell_type": "markdown",
   "id": "c7e54d4e",
   "metadata": {},
   "source": [
    "# Metricas"
   ]
  },
  {
   "cell_type": "code",
   "execution_count": 18,
   "id": "b3361745",
   "metadata": {},
   "outputs": [
    {
     "name": "stdout",
     "output_type": "stream",
     "text": [
      "Resultado del test: 23.10 MSE\n"
     ]
    }
   ],
   "source": [
    "# MSE\n",
    "testScore = math.sqrt(mean_squared_error(results['Actual'], results['Forecast']))\n",
    "print('Resultado del test: %.2f MSE' % (testScore))"
   ]
  },
  {
   "cell_type": "code",
   "execution_count": 19,
   "id": "e343423f",
   "metadata": {},
   "outputs": [
    {
     "name": "stdout",
     "output_type": "stream",
     "text": [
      "Resultado del test: -2.65 R2_SCORE\n"
     ]
    }
   ],
   "source": [
    "r2Score_test= r2_score(results['Actual'], results['Forecast'])\n",
    "print('Resultado del test: %.2f R2_SCORE' % (r2Score_test))"
   ]
  },
  {
   "cell_type": "code",
   "execution_count": 20,
   "id": "2cd6cd62",
   "metadata": {},
   "outputs": [
    {
     "name": "stdout",
     "output_type": "stream",
     "text": [
      "Resultado del test: 11.78 MAE\n"
     ]
    }
   ],
   "source": [
    "# mae\n",
    "mae_test = mean_absolute_error(results['Actual'], results['Forecast'])\n",
    "print('Resultado del test: %.2f MAE' % (mae_test))"
   ]
  },
  {
   "cell_type": "code",
   "execution_count": 21,
   "id": "45de4858",
   "metadata": {},
   "outputs": [
    {
     "data": {
      "text/plain": [
       "array([[72.41547 ],\n",
       "       [72.69294 ],\n",
       "       [74.22987 ],\n",
       "       ...,\n",
       "       [46.49251 ],\n",
       "       [46.510296],\n",
       "       [46.601227]], dtype=float32)"
      ]
     },
     "execution_count": 21,
     "metadata": {},
     "output_type": "execute_result"
    }
   ],
   "source": [
    "new_predictions"
   ]
  },
  {
   "cell_type": "code",
   "execution_count": null,
   "id": "a05d8dc8",
   "metadata": {},
   "outputs": [],
   "source": []
  }
 ],
 "metadata": {
  "kernelspec": {
   "display_name": "Python 3 (ipykernel)",
   "language": "python",
   "name": "python3"
  },
  "language_info": {
   "codemirror_mode": {
    "name": "ipython",
    "version": 3
   },
   "file_extension": ".py",
   "mimetype": "text/x-python",
   "name": "python",
   "nbconvert_exporter": "python",
   "pygments_lexer": "ipython3",
   "version": "3.10.8"
  }
 },
 "nbformat": 4,
 "nbformat_minor": 5
}
