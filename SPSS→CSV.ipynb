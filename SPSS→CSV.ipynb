{
  "nbformat": 4,
  "nbformat_minor": 0,
  "metadata": {
    "colab": {
      "provenance": [],
      "mount_file_id": "1ukFNBODxvxP8cVeTYepSUwnLp9Fxyz7n",
      "authorship_tag": "ABX9TyMWygO4wiJuYSZ2/Q4Ic58v",
      "include_colab_link": true
    },
    "kernelspec": {
      "name": "python3",
      "display_name": "Python 3"
    },
    "language_info": {
      "name": "python"
    }
  },
  "cells": [
    {
      "cell_type": "markdown",
      "metadata": {
        "id": "view-in-github",
        "colab_type": "text"
      },
      "source": [
        "<a href=\"https://colab.research.google.com/github/Murgueytio/Master-s-Thesis-Predicting-energy-price-behavior-using-LSTM-/blob/master/SPSS%E2%86%92CSV.ipynb\" target=\"_parent\"><img src=\"https://colab.research.google.com/assets/colab-badge.svg\" alt=\"Open In Colab\"/></a>"
      ]
    },
    {
      "cell_type": "markdown",
      "source": [
        "# SPSS → CSV\n",
        "Source: DHS Download Account Application"
      ],
      "metadata": {
        "id": "MH71acfPsUDR"
      }
    },
    {
      "cell_type": "markdown",
      "source": [
        "**FW** = Fieldworker Questionnaire\n",
        "\n",
        "**HR** = Household Recode\n",
        "\n",
        "**HH** = Household Raw (1986)\n",
        "\n",
        "**IR** = Individual Recode\n",
        "\n",
        "**KR** = Children's Recode\n",
        "\n",
        "**PR** = Household Member Recode\n",
        "\n",
        "Example:\n",
        "\n",
        "df_fw_22 = dataframe for **FW** for year **2022**"
      ],
      "metadata": {
        "id": "PknwpSsVfwu_"
      }
    },
    {
      "cell_type": "code",
      "source": [
        "pip install pyreadstat"
      ],
      "metadata": {
        "colab": {
          "base_uri": "https://localhost:8080/"
        },
        "id": "sHhZT_vjgFMT",
        "outputId": "caec6660-ea8c-4b7d-f75d-4152f68aaab9"
      },
      "execution_count": 1,
      "outputs": [
        {
          "output_type": "stream",
          "name": "stdout",
          "text": [
            "Collecting pyreadstat\n",
            "  Downloading pyreadstat-1.2.6-cp310-cp310-manylinux_2_17_x86_64.manylinux2014_x86_64.whl (2.8 MB)\n",
            "\u001b[2K     \u001b[90m━━━━━━━━━━━━━━━━━━━━━━━━━━━━━━━━━━━━━━━━\u001b[0m \u001b[32m2.8/2.8 MB\u001b[0m \u001b[31m13.4 MB/s\u001b[0m eta \u001b[36m0:00:00\u001b[0m\n",
            "\u001b[?25hRequirement already satisfied: pandas>=1.2.0 in /usr/local/lib/python3.10/dist-packages (from pyreadstat) (1.5.3)\n",
            "Requirement already satisfied: python-dateutil>=2.8.1 in /usr/local/lib/python3.10/dist-packages (from pandas>=1.2.0->pyreadstat) (2.8.2)\n",
            "Requirement already satisfied: pytz>=2020.1 in /usr/local/lib/python3.10/dist-packages (from pandas>=1.2.0->pyreadstat) (2023.3.post1)\n",
            "Requirement already satisfied: numpy>=1.21.0 in /usr/local/lib/python3.10/dist-packages (from pandas>=1.2.0->pyreadstat) (1.23.5)\n",
            "Requirement already satisfied: six>=1.5 in /usr/local/lib/python3.10/dist-packages (from python-dateutil>=2.8.1->pandas>=1.2.0->pyreadstat) (1.16.0)\n",
            "Installing collected packages: pyreadstat\n",
            "Successfully installed pyreadstat-1.2.6\n"
          ]
        }
      ]
    },
    {
      "cell_type": "code",
      "source": [
        "import pyreadstat"
      ],
      "metadata": {
        "id": "Qk8R2HEkhT3x"
      },
      "execution_count": 2,
      "outputs": []
    },
    {
      "cell_type": "markdown",
      "source": [
        "# **Liberia: MIS, 2022**"
      ],
      "metadata": {
        "id": "x8oJGkTYjqkA"
      }
    },
    {
      "cell_type": "code",
      "source": [
        "df_fw_22, meta = pyreadstat.read_sav(r\"LBFW81FL.SAV\")"
      ],
      "metadata": {
        "id": "NQeDhtzZhWn-"
      },
      "execution_count": 5,
      "outputs": []
    },
    {
      "cell_type": "code",
      "source": [
        "df_fw_22.to_csv(\"mycsv_fw_22.csv\")"
      ],
      "metadata": {
        "id": "3MG2fyO6hjLA"
      },
      "execution_count": 6,
      "outputs": []
    },
    {
      "cell_type": "code",
      "source": [
        "df_fw_22"
      ],
      "metadata": {
        "colab": {
          "base_uri": "https://localhost:8080/",
          "height": 443
        },
        "id": "50QtobvDiJ6v",
        "outputId": "07460b52-99b5-49fa-976f-1ed7e2ad5fcf"
      },
      "execution_count": 7,
      "outputs": [
        {
          "output_type": "execute_result",
          "data": {
            "text/plain": [
              "     FW101 FW000  FW102  FW103  FW104  FW105  FW106  FW107  FW108  FW109  ...  \\\n",
              "0   1103.0   LB8   11.0    1.0   36.0    1.0    2.0    4.0    1.0    4.0  ...   \n",
              "1   1102.0   LB8   11.0    1.0   30.0    2.0    6.0    1.0    2.0    4.0  ...   \n",
              "2   1503.0   LB8   11.0    1.0   44.0    1.0    1.0    4.0    2.0    4.0  ...   \n",
              "3    801.0   LB8    9.0    2.0   50.0    2.0    6.0    4.0    2.0    4.0  ...   \n",
              "4    201.0   LB8   11.0    1.0   48.0    1.0    1.0    2.0    1.0    4.0  ...   \n",
              "..     ...   ...    ...    ...    ...    ...    ...    ...    ...    ...  ...   \n",
              "60   903.0   LB8    2.0    1.0   47.0    1.0    2.0    4.0    2.0    4.0  ...   \n",
              "61   603.0   LB8   11.0    1.0   34.0    1.0    1.0    4.0    2.0    4.0  ...   \n",
              "62   204.0   LB8   11.0    1.0   32.0    1.0    2.0    2.0    2.0    4.0  ...   \n",
              "63   901.0   LB8   11.0    1.0   30.0    2.0    6.0    0.0    2.0    4.0  ...   \n",
              "64  1507.0   LB8   11.0    1.0   44.0    1.0    1.0    4.0    2.0    4.0  ...   \n",
              "\n",
              "    FW113Q  FW113R  FW113X  FW114 FW115A FW115B FW115C FW116 FW117 FW118  \n",
              "0                             7.0    2.0    2.0    1.0   4.0   NaN   2.0  \n",
              "1                            18.0    2.0    2.0    1.0   4.0   NaN   1.0  \n",
              "2                             1.0    2.0    2.0    1.0   4.0   NaN   1.0  \n",
              "3                             1.0    2.0    2.0    1.0   2.0   1.0   1.0  \n",
              "4                             9.0    1.0    2.0    2.0   4.0   NaN   1.0  \n",
              "..     ...     ...     ...    ...    ...    ...    ...   ...   ...   ...  \n",
              "60                            9.0    2.0    1.0    2.0   2.0   2.0   2.0  \n",
              "61                            1.0    2.0    2.0    2.0   4.0   NaN   2.0  \n",
              "62                           13.0    2.0    2.0    1.0   4.0   NaN   2.0  \n",
              "63                           11.0    2.0    2.0    1.0   4.0   NaN   2.0  \n",
              "64                            1.0    2.0    2.0    1.0   4.0   NaN   1.0  \n",
              "\n",
              "[65 rows x 40 columns]"
            ],
            "text/html": [
              "\n",
              "  <div id=\"df-f71d28a7-fcd3-4c6d-ac0c-ae715cf14e41\" class=\"colab-df-container\">\n",
              "    <div>\n",
              "<style scoped>\n",
              "    .dataframe tbody tr th:only-of-type {\n",
              "        vertical-align: middle;\n",
              "    }\n",
              "\n",
              "    .dataframe tbody tr th {\n",
              "        vertical-align: top;\n",
              "    }\n",
              "\n",
              "    .dataframe thead th {\n",
              "        text-align: right;\n",
              "    }\n",
              "</style>\n",
              "<table border=\"1\" class=\"dataframe\">\n",
              "  <thead>\n",
              "    <tr style=\"text-align: right;\">\n",
              "      <th></th>\n",
              "      <th>FW101</th>\n",
              "      <th>FW000</th>\n",
              "      <th>FW102</th>\n",
              "      <th>FW103</th>\n",
              "      <th>FW104</th>\n",
              "      <th>FW105</th>\n",
              "      <th>FW106</th>\n",
              "      <th>FW107</th>\n",
              "      <th>FW108</th>\n",
              "      <th>FW109</th>\n",
              "      <th>...</th>\n",
              "      <th>FW113Q</th>\n",
              "      <th>FW113R</th>\n",
              "      <th>FW113X</th>\n",
              "      <th>FW114</th>\n",
              "      <th>FW115A</th>\n",
              "      <th>FW115B</th>\n",
              "      <th>FW115C</th>\n",
              "      <th>FW116</th>\n",
              "      <th>FW117</th>\n",
              "      <th>FW118</th>\n",
              "    </tr>\n",
              "  </thead>\n",
              "  <tbody>\n",
              "    <tr>\n",
              "      <th>0</th>\n",
              "      <td>1103.0</td>\n",
              "      <td>LB8</td>\n",
              "      <td>11.0</td>\n",
              "      <td>1.0</td>\n",
              "      <td>36.0</td>\n",
              "      <td>1.0</td>\n",
              "      <td>2.0</td>\n",
              "      <td>4.0</td>\n",
              "      <td>1.0</td>\n",
              "      <td>4.0</td>\n",
              "      <td>...</td>\n",
              "      <td></td>\n",
              "      <td></td>\n",
              "      <td></td>\n",
              "      <td>7.0</td>\n",
              "      <td>2.0</td>\n",
              "      <td>2.0</td>\n",
              "      <td>1.0</td>\n",
              "      <td>4.0</td>\n",
              "      <td>NaN</td>\n",
              "      <td>2.0</td>\n",
              "    </tr>\n",
              "    <tr>\n",
              "      <th>1</th>\n",
              "      <td>1102.0</td>\n",
              "      <td>LB8</td>\n",
              "      <td>11.0</td>\n",
              "      <td>1.0</td>\n",
              "      <td>30.0</td>\n",
              "      <td>2.0</td>\n",
              "      <td>6.0</td>\n",
              "      <td>1.0</td>\n",
              "      <td>2.0</td>\n",
              "      <td>4.0</td>\n",
              "      <td>...</td>\n",
              "      <td></td>\n",
              "      <td></td>\n",
              "      <td></td>\n",
              "      <td>18.0</td>\n",
              "      <td>2.0</td>\n",
              "      <td>2.0</td>\n",
              "      <td>1.0</td>\n",
              "      <td>4.0</td>\n",
              "      <td>NaN</td>\n",
              "      <td>1.0</td>\n",
              "    </tr>\n",
              "    <tr>\n",
              "      <th>2</th>\n",
              "      <td>1503.0</td>\n",
              "      <td>LB8</td>\n",
              "      <td>11.0</td>\n",
              "      <td>1.0</td>\n",
              "      <td>44.0</td>\n",
              "      <td>1.0</td>\n",
              "      <td>1.0</td>\n",
              "      <td>4.0</td>\n",
              "      <td>2.0</td>\n",
              "      <td>4.0</td>\n",
              "      <td>...</td>\n",
              "      <td></td>\n",
              "      <td></td>\n",
              "      <td></td>\n",
              "      <td>1.0</td>\n",
              "      <td>2.0</td>\n",
              "      <td>2.0</td>\n",
              "      <td>1.0</td>\n",
              "      <td>4.0</td>\n",
              "      <td>NaN</td>\n",
              "      <td>1.0</td>\n",
              "    </tr>\n",
              "    <tr>\n",
              "      <th>3</th>\n",
              "      <td>801.0</td>\n",
              "      <td>LB8</td>\n",
              "      <td>9.0</td>\n",
              "      <td>2.0</td>\n",
              "      <td>50.0</td>\n",
              "      <td>2.0</td>\n",
              "      <td>6.0</td>\n",
              "      <td>4.0</td>\n",
              "      <td>2.0</td>\n",
              "      <td>4.0</td>\n",
              "      <td>...</td>\n",
              "      <td></td>\n",
              "      <td></td>\n",
              "      <td></td>\n",
              "      <td>1.0</td>\n",
              "      <td>2.0</td>\n",
              "      <td>2.0</td>\n",
              "      <td>1.0</td>\n",
              "      <td>2.0</td>\n",
              "      <td>1.0</td>\n",
              "      <td>1.0</td>\n",
              "    </tr>\n",
              "    <tr>\n",
              "      <th>4</th>\n",
              "      <td>201.0</td>\n",
              "      <td>LB8</td>\n",
              "      <td>11.0</td>\n",
              "      <td>1.0</td>\n",
              "      <td>48.0</td>\n",
              "      <td>1.0</td>\n",
              "      <td>1.0</td>\n",
              "      <td>2.0</td>\n",
              "      <td>1.0</td>\n",
              "      <td>4.0</td>\n",
              "      <td>...</td>\n",
              "      <td></td>\n",
              "      <td></td>\n",
              "      <td></td>\n",
              "      <td>9.0</td>\n",
              "      <td>1.0</td>\n",
              "      <td>2.0</td>\n",
              "      <td>2.0</td>\n",
              "      <td>4.0</td>\n",
              "      <td>NaN</td>\n",
              "      <td>1.0</td>\n",
              "    </tr>\n",
              "    <tr>\n",
              "      <th>...</th>\n",
              "      <td>...</td>\n",
              "      <td>...</td>\n",
              "      <td>...</td>\n",
              "      <td>...</td>\n",
              "      <td>...</td>\n",
              "      <td>...</td>\n",
              "      <td>...</td>\n",
              "      <td>...</td>\n",
              "      <td>...</td>\n",
              "      <td>...</td>\n",
              "      <td>...</td>\n",
              "      <td>...</td>\n",
              "      <td>...</td>\n",
              "      <td>...</td>\n",
              "      <td>...</td>\n",
              "      <td>...</td>\n",
              "      <td>...</td>\n",
              "      <td>...</td>\n",
              "      <td>...</td>\n",
              "      <td>...</td>\n",
              "      <td>...</td>\n",
              "    </tr>\n",
              "    <tr>\n",
              "      <th>60</th>\n",
              "      <td>903.0</td>\n",
              "      <td>LB8</td>\n",
              "      <td>2.0</td>\n",
              "      <td>1.0</td>\n",
              "      <td>47.0</td>\n",
              "      <td>1.0</td>\n",
              "      <td>2.0</td>\n",
              "      <td>4.0</td>\n",
              "      <td>2.0</td>\n",
              "      <td>4.0</td>\n",
              "      <td>...</td>\n",
              "      <td></td>\n",
              "      <td></td>\n",
              "      <td></td>\n",
              "      <td>9.0</td>\n",
              "      <td>2.0</td>\n",
              "      <td>1.0</td>\n",
              "      <td>2.0</td>\n",
              "      <td>2.0</td>\n",
              "      <td>2.0</td>\n",
              "      <td>2.0</td>\n",
              "    </tr>\n",
              "    <tr>\n",
              "      <th>61</th>\n",
              "      <td>603.0</td>\n",
              "      <td>LB8</td>\n",
              "      <td>11.0</td>\n",
              "      <td>1.0</td>\n",
              "      <td>34.0</td>\n",
              "      <td>1.0</td>\n",
              "      <td>1.0</td>\n",
              "      <td>4.0</td>\n",
              "      <td>2.0</td>\n",
              "      <td>4.0</td>\n",
              "      <td>...</td>\n",
              "      <td></td>\n",
              "      <td></td>\n",
              "      <td></td>\n",
              "      <td>1.0</td>\n",
              "      <td>2.0</td>\n",
              "      <td>2.0</td>\n",
              "      <td>2.0</td>\n",
              "      <td>4.0</td>\n",
              "      <td>NaN</td>\n",
              "      <td>2.0</td>\n",
              "    </tr>\n",
              "    <tr>\n",
              "      <th>62</th>\n",
              "      <td>204.0</td>\n",
              "      <td>LB8</td>\n",
              "      <td>11.0</td>\n",
              "      <td>1.0</td>\n",
              "      <td>32.0</td>\n",
              "      <td>1.0</td>\n",
              "      <td>2.0</td>\n",
              "      <td>2.0</td>\n",
              "      <td>2.0</td>\n",
              "      <td>4.0</td>\n",
              "      <td>...</td>\n",
              "      <td></td>\n",
              "      <td></td>\n",
              "      <td></td>\n",
              "      <td>13.0</td>\n",
              "      <td>2.0</td>\n",
              "      <td>2.0</td>\n",
              "      <td>1.0</td>\n",
              "      <td>4.0</td>\n",
              "      <td>NaN</td>\n",
              "      <td>2.0</td>\n",
              "    </tr>\n",
              "    <tr>\n",
              "      <th>63</th>\n",
              "      <td>901.0</td>\n",
              "      <td>LB8</td>\n",
              "      <td>11.0</td>\n",
              "      <td>1.0</td>\n",
              "      <td>30.0</td>\n",
              "      <td>2.0</td>\n",
              "      <td>6.0</td>\n",
              "      <td>0.0</td>\n",
              "      <td>2.0</td>\n",
              "      <td>4.0</td>\n",
              "      <td>...</td>\n",
              "      <td></td>\n",
              "      <td></td>\n",
              "      <td></td>\n",
              "      <td>11.0</td>\n",
              "      <td>2.0</td>\n",
              "      <td>2.0</td>\n",
              "      <td>1.0</td>\n",
              "      <td>4.0</td>\n",
              "      <td>NaN</td>\n",
              "      <td>2.0</td>\n",
              "    </tr>\n",
              "    <tr>\n",
              "      <th>64</th>\n",
              "      <td>1507.0</td>\n",
              "      <td>LB8</td>\n",
              "      <td>11.0</td>\n",
              "      <td>1.0</td>\n",
              "      <td>44.0</td>\n",
              "      <td>1.0</td>\n",
              "      <td>1.0</td>\n",
              "      <td>4.0</td>\n",
              "      <td>2.0</td>\n",
              "      <td>4.0</td>\n",
              "      <td>...</td>\n",
              "      <td></td>\n",
              "      <td></td>\n",
              "      <td></td>\n",
              "      <td>1.0</td>\n",
              "      <td>2.0</td>\n",
              "      <td>2.0</td>\n",
              "      <td>1.0</td>\n",
              "      <td>4.0</td>\n",
              "      <td>NaN</td>\n",
              "      <td>1.0</td>\n",
              "    </tr>\n",
              "  </tbody>\n",
              "</table>\n",
              "<p>65 rows × 40 columns</p>\n",
              "</div>\n",
              "    <div class=\"colab-df-buttons\">\n",
              "\n",
              "  <div class=\"colab-df-container\">\n",
              "    <button class=\"colab-df-convert\" onclick=\"convertToInteractive('df-f71d28a7-fcd3-4c6d-ac0c-ae715cf14e41')\"\n",
              "            title=\"Convert this dataframe to an interactive table.\"\n",
              "            style=\"display:none;\">\n",
              "\n",
              "  <svg xmlns=\"http://www.w3.org/2000/svg\" height=\"24px\" viewBox=\"0 -960 960 960\">\n",
              "    <path d=\"M120-120v-720h720v720H120Zm60-500h600v-160H180v160Zm220 220h160v-160H400v160Zm0 220h160v-160H400v160ZM180-400h160v-160H180v160Zm440 0h160v-160H620v160ZM180-180h160v-160H180v160Zm440 0h160v-160H620v160Z\"/>\n",
              "  </svg>\n",
              "    </button>\n",
              "\n",
              "  <style>\n",
              "    .colab-df-container {\n",
              "      display:flex;\n",
              "      gap: 12px;\n",
              "    }\n",
              "\n",
              "    .colab-df-convert {\n",
              "      background-color: #E8F0FE;\n",
              "      border: none;\n",
              "      border-radius: 50%;\n",
              "      cursor: pointer;\n",
              "      display: none;\n",
              "      fill: #1967D2;\n",
              "      height: 32px;\n",
              "      padding: 0 0 0 0;\n",
              "      width: 32px;\n",
              "    }\n",
              "\n",
              "    .colab-df-convert:hover {\n",
              "      background-color: #E2EBFA;\n",
              "      box-shadow: 0px 1px 2px rgba(60, 64, 67, 0.3), 0px 1px 3px 1px rgba(60, 64, 67, 0.15);\n",
              "      fill: #174EA6;\n",
              "    }\n",
              "\n",
              "    .colab-df-buttons div {\n",
              "      margin-bottom: 4px;\n",
              "    }\n",
              "\n",
              "    [theme=dark] .colab-df-convert {\n",
              "      background-color: #3B4455;\n",
              "      fill: #D2E3FC;\n",
              "    }\n",
              "\n",
              "    [theme=dark] .colab-df-convert:hover {\n",
              "      background-color: #434B5C;\n",
              "      box-shadow: 0px 1px 3px 1px rgba(0, 0, 0, 0.15);\n",
              "      filter: drop-shadow(0px 1px 2px rgba(0, 0, 0, 0.3));\n",
              "      fill: #FFFFFF;\n",
              "    }\n",
              "  </style>\n",
              "\n",
              "    <script>\n",
              "      const buttonEl =\n",
              "        document.querySelector('#df-f71d28a7-fcd3-4c6d-ac0c-ae715cf14e41 button.colab-df-convert');\n",
              "      buttonEl.style.display =\n",
              "        google.colab.kernel.accessAllowed ? 'block' : 'none';\n",
              "\n",
              "      async function convertToInteractive(key) {\n",
              "        const element = document.querySelector('#df-f71d28a7-fcd3-4c6d-ac0c-ae715cf14e41');\n",
              "        const dataTable =\n",
              "          await google.colab.kernel.invokeFunction('convertToInteractive',\n",
              "                                                    [key], {});\n",
              "        if (!dataTable) return;\n",
              "\n",
              "        const docLinkHtml = 'Like what you see? Visit the ' +\n",
              "          '<a target=\"_blank\" href=https://colab.research.google.com/notebooks/data_table.ipynb>data table notebook</a>'\n",
              "          + ' to learn more about interactive tables.';\n",
              "        element.innerHTML = '';\n",
              "        dataTable['output_type'] = 'display_data';\n",
              "        await google.colab.output.renderOutput(dataTable, element);\n",
              "        const docLink = document.createElement('div');\n",
              "        docLink.innerHTML = docLinkHtml;\n",
              "        element.appendChild(docLink);\n",
              "      }\n",
              "    </script>\n",
              "  </div>\n",
              "\n",
              "\n",
              "<div id=\"df-9506237e-6771-424a-b939-a0786890c8be\">\n",
              "  <button class=\"colab-df-quickchart\" onclick=\"quickchart('df-9506237e-6771-424a-b939-a0786890c8be')\"\n",
              "            title=\"Suggest charts\"\n",
              "            style=\"display:none;\">\n",
              "\n",
              "<svg xmlns=\"http://www.w3.org/2000/svg\" height=\"24px\"viewBox=\"0 0 24 24\"\n",
              "     width=\"24px\">\n",
              "    <g>\n",
              "        <path d=\"M19 3H5c-1.1 0-2 .9-2 2v14c0 1.1.9 2 2 2h14c1.1 0 2-.9 2-2V5c0-1.1-.9-2-2-2zM9 17H7v-7h2v7zm4 0h-2V7h2v10zm4 0h-2v-4h2v4z\"/>\n",
              "    </g>\n",
              "</svg>\n",
              "  </button>\n",
              "\n",
              "<style>\n",
              "  .colab-df-quickchart {\n",
              "      --bg-color: #E8F0FE;\n",
              "      --fill-color: #1967D2;\n",
              "      --hover-bg-color: #E2EBFA;\n",
              "      --hover-fill-color: #174EA6;\n",
              "      --disabled-fill-color: #AAA;\n",
              "      --disabled-bg-color: #DDD;\n",
              "  }\n",
              "\n",
              "  [theme=dark] .colab-df-quickchart {\n",
              "      --bg-color: #3B4455;\n",
              "      --fill-color: #D2E3FC;\n",
              "      --hover-bg-color: #434B5C;\n",
              "      --hover-fill-color: #FFFFFF;\n",
              "      --disabled-bg-color: #3B4455;\n",
              "      --disabled-fill-color: #666;\n",
              "  }\n",
              "\n",
              "  .colab-df-quickchart {\n",
              "    background-color: var(--bg-color);\n",
              "    border: none;\n",
              "    border-radius: 50%;\n",
              "    cursor: pointer;\n",
              "    display: none;\n",
              "    fill: var(--fill-color);\n",
              "    height: 32px;\n",
              "    padding: 0;\n",
              "    width: 32px;\n",
              "  }\n",
              "\n",
              "  .colab-df-quickchart:hover {\n",
              "    background-color: var(--hover-bg-color);\n",
              "    box-shadow: 0 1px 2px rgba(60, 64, 67, 0.3), 0 1px 3px 1px rgba(60, 64, 67, 0.15);\n",
              "    fill: var(--button-hover-fill-color);\n",
              "  }\n",
              "\n",
              "  .colab-df-quickchart-complete:disabled,\n",
              "  .colab-df-quickchart-complete:disabled:hover {\n",
              "    background-color: var(--disabled-bg-color);\n",
              "    fill: var(--disabled-fill-color);\n",
              "    box-shadow: none;\n",
              "  }\n",
              "\n",
              "  .colab-df-spinner {\n",
              "    border: 2px solid var(--fill-color);\n",
              "    border-color: transparent;\n",
              "    border-bottom-color: var(--fill-color);\n",
              "    animation:\n",
              "      spin 1s steps(1) infinite;\n",
              "  }\n",
              "\n",
              "  @keyframes spin {\n",
              "    0% {\n",
              "      border-color: transparent;\n",
              "      border-bottom-color: var(--fill-color);\n",
              "      border-left-color: var(--fill-color);\n",
              "    }\n",
              "    20% {\n",
              "      border-color: transparent;\n",
              "      border-left-color: var(--fill-color);\n",
              "      border-top-color: var(--fill-color);\n",
              "    }\n",
              "    30% {\n",
              "      border-color: transparent;\n",
              "      border-left-color: var(--fill-color);\n",
              "      border-top-color: var(--fill-color);\n",
              "      border-right-color: var(--fill-color);\n",
              "    }\n",
              "    40% {\n",
              "      border-color: transparent;\n",
              "      border-right-color: var(--fill-color);\n",
              "      border-top-color: var(--fill-color);\n",
              "    }\n",
              "    60% {\n",
              "      border-color: transparent;\n",
              "      border-right-color: var(--fill-color);\n",
              "    }\n",
              "    80% {\n",
              "      border-color: transparent;\n",
              "      border-right-color: var(--fill-color);\n",
              "      border-bottom-color: var(--fill-color);\n",
              "    }\n",
              "    90% {\n",
              "      border-color: transparent;\n",
              "      border-bottom-color: var(--fill-color);\n",
              "    }\n",
              "  }\n",
              "</style>\n",
              "\n",
              "  <script>\n",
              "    async function quickchart(key) {\n",
              "      const quickchartButtonEl =\n",
              "        document.querySelector('#' + key + ' button');\n",
              "      quickchartButtonEl.disabled = true;  // To prevent multiple clicks.\n",
              "      quickchartButtonEl.classList.add('colab-df-spinner');\n",
              "      try {\n",
              "        const charts = await google.colab.kernel.invokeFunction(\n",
              "            'suggestCharts', [key], {});\n",
              "      } catch (error) {\n",
              "        console.error('Error during call to suggestCharts:', error);\n",
              "      }\n",
              "      quickchartButtonEl.classList.remove('colab-df-spinner');\n",
              "      quickchartButtonEl.classList.add('colab-df-quickchart-complete');\n",
              "    }\n",
              "    (() => {\n",
              "      let quickchartButtonEl =\n",
              "        document.querySelector('#df-9506237e-6771-424a-b939-a0786890c8be button');\n",
              "      quickchartButtonEl.style.display =\n",
              "        google.colab.kernel.accessAllowed ? 'block' : 'none';\n",
              "    })();\n",
              "  </script>\n",
              "</div>\n",
              "    </div>\n",
              "  </div>\n"
            ]
          },
          "metadata": {},
          "execution_count": 7
        }
      ]
    },
    {
      "cell_type": "code",
      "source": [
        "df_hr_22, meta = pyreadstat.read_sav(r\"LBHR81FL.SAV\")\n",
        "df_hr_22.to_csv(\"mycsv_hr_22.csv\")\n",
        "df_hr_22"
      ],
      "metadata": {
        "id": "arr-ACJxiQYF"
      },
      "execution_count": null,
      "outputs": []
    },
    {
      "cell_type": "code",
      "source": [
        "df_ir_22, meta = pyreadstat.read_sav(r\"LBIR81FL.SAV\")\n",
        "df_ir_22.to_csv(\"mycsv_ir_22.csv\")\n",
        "df_ir_22"
      ],
      "metadata": {
        "id": "HU9SFJk6jA4Z"
      },
      "execution_count": null,
      "outputs": []
    },
    {
      "cell_type": "code",
      "source": [
        "df_kr_22, meta = pyreadstat.read_sav(r\"LBKR81FL.SAV\")\n",
        "df_kr_22.to_csv(\"mycsv_kr_22.csv\")\n",
        "df_kr_22"
      ],
      "metadata": {
        "id": "c33iHw7ZkSDs"
      },
      "execution_count": null,
      "outputs": []
    },
    {
      "cell_type": "code",
      "source": [
        "df_pr_22, meta = pyreadstat.read_sav(r\"LBPR81FL.SAV\")\n",
        "df_pr_22.to_csv(\"mycsv_pr_22.csv\")\n",
        "df_pr_22"
      ],
      "metadata": {
        "id": "sJO6aOp7lv1q"
      },
      "execution_count": null,
      "outputs": []
    },
    {
      "cell_type": "markdown",
      "source": [
        "# **Liberia: Standard DHS, 2019-20**\n"
      ],
      "metadata": {
        "id": "R44Tzbg9mPBu"
      }
    },
    {
      "cell_type": "markdown",
      "source": [
        "## Standard DHS and MIS\n",
        "\n",
        "\"Differences between the two surveys include the collection of malaria parasitemia and data collection during malaria high transmission season during an MIS, **whereas a DHS typically collects data during the dry season**\".\n",
        "\n",
        "\n",
        "Demographic and Health Surveys (Standard DHS)\n",
        "\n",
        "Malaria Indicator Survey (MIS)"
      ],
      "metadata": {
        "id": "fjw-veE6n4wd"
      }
    },
    {
      "cell_type": "markdown",
      "source": [
        "**BR** = Births Recode\n",
        "\n",
        "**CR** = Couples' Recode\n",
        "\n",
        "**FW** = Fieldworker Questionnaire\n",
        "\n",
        "**HR** = Household Recode\n",
        "\n",
        "**IR** = Individual Recode\n",
        "\n",
        "**KR** = Children's Recode\n",
        "\n",
        "**MR** = Men's Recode\n",
        "\n",
        "**PR** = Household Member Recode\n",
        "\n",
        "Example:\n",
        "\n",
        "df_fw_20 = dataframe for FW for years 2019 ^ 2020"
      ],
      "metadata": {
        "id": "3FDhW7y6s9jP"
      }
    },
    {
      "cell_type": "code",
      "source": [
        "df_br_20, meta = pyreadstat.read_sav(r\"LBBR7AFL.SAV\")\n",
        "df_br_20.to_csv(\"mycsv_br_20.csv\")\n",
        "df_br_20"
      ],
      "metadata": {
        "id": "dPYj-vJ-lwgC"
      },
      "execution_count": null,
      "outputs": []
    },
    {
      "cell_type": "code",
      "source": [
        "df_cr_20, meta = pyreadstat.read_sav(r\"LBCR7AFL.SAV\")\n",
        "df_cr_20.to_csv(\"mycsv_cr_20.csv\")\n",
        "df_cr_20"
      ],
      "metadata": {
        "id": "LRrUgfD8uRuV"
      },
      "execution_count": null,
      "outputs": []
    },
    {
      "cell_type": "code",
      "source": [
        "df_fw_20, meta = pyreadstat.read_sav(r\"LBFW7AFL.SAV\")\n",
        "df_fw_20.to_csv(\"mycsv_fw_20.csv\")\n",
        "df_fw_20"
      ],
      "metadata": {
        "id": "ONTcvPb2vGHG"
      },
      "execution_count": null,
      "outputs": []
    },
    {
      "cell_type": "code",
      "source": [
        "df_hr_20, meta = pyreadstat.read_sav(r\"LBHR7AFL.SAV\")\n",
        "df_hr_20.to_csv(\"mycsv_hr_20.csv\")\n",
        "df_hr_20"
      ],
      "metadata": {
        "id": "fHW26JBTvGzU"
      },
      "execution_count": null,
      "outputs": []
    },
    {
      "cell_type": "code",
      "source": [
        "df_ir_20, meta = pyreadstat.read_sav(r\"LBIR7AFL.SAV\")\n",
        "df_ir_20.to_csv(\"mycsv_ir_20.csv\")\n",
        "df_ir_20"
      ],
      "metadata": {
        "id": "zoo9ny9ivHhA"
      },
      "execution_count": null,
      "outputs": []
    },
    {
      "cell_type": "code",
      "source": [
        "df_kr_20, meta = pyreadstat.read_sav(r\"LBKR7AFL.SAV\")\n",
        "df_kr_20.to_csv(\"mycsv_kr_20.csv\")\n",
        "df_kr_20"
      ],
      "metadata": {
        "id": "nezH2o4GvJC4"
      },
      "execution_count": null,
      "outputs": []
    },
    {
      "cell_type": "code",
      "source": [
        "df_mr_20, meta = pyreadstat.read_sav(r\"LBMR7AFL.SAV\")\n",
        "df_mr_20.to_csv(\"mycsv_mr_20.csv\")\n",
        "df_mr_20"
      ],
      "metadata": {
        "id": "WaSHL46rvJpd"
      },
      "execution_count": null,
      "outputs": []
    },
    {
      "cell_type": "code",
      "source": [
        "df_pr_20, meta = pyreadstat.read_sav(r\"LBPR7AFL.SAV\")\n",
        "df_pr_20.to_csv(\"mycsv_pr_20.csv\")\n",
        "df_pr_20"
      ],
      "metadata": {
        "id": "X77ZCxuUvKQd"
      },
      "execution_count": null,
      "outputs": []
    },
    {
      "cell_type": "markdown",
      "source": [
        "# **Liberia: MIS, 2016**\n"
      ],
      "metadata": {
        "id": "TYEsPnIVxaT2"
      }
    },
    {
      "cell_type": "code",
      "source": [
        "df_fw_16, meta = pyreadstat.read_sav(r\"LBFW71FL.SAV\")\n",
        "df_fw_16.to_csv(\"mycsv_fw_16.csv\")\n",
        "df_fw_16"
      ],
      "metadata": {
        "id": "-1H1eb_YyAS7"
      },
      "execution_count": null,
      "outputs": []
    },
    {
      "cell_type": "code",
      "source": [
        "df_hr_16, meta = pyreadstat.read_sav(r\"LBHR71FL.SAV\")\n",
        "df_hr_16.to_csv(\"mycsv_hr_16.csv\")\n",
        "df_hr_16"
      ],
      "metadata": {
        "id": "nfandUkczQSi"
      },
      "execution_count": null,
      "outputs": []
    },
    {
      "cell_type": "code",
      "source": [
        "df_ir_16, meta = pyreadstat.read_sav(r\"LBIR71FL.SAV\")\n",
        "df_ir_16.to_csv(\"mycsv_ir_16.csv\")\n",
        "df_ir_16"
      ],
      "metadata": {
        "id": "R3wL4D8rzWQa"
      },
      "execution_count": null,
      "outputs": []
    },
    {
      "cell_type": "code",
      "source": [
        "df_kr_16, meta = pyreadstat.read_sav(r\"LBKR71FL.SAV\")\n",
        "df_kr_16.to_csv(\"mycsv_kr_16.csv\")\n",
        "df_kr_16"
      ],
      "metadata": {
        "id": "oxkhKzWkzW5B"
      },
      "execution_count": null,
      "outputs": []
    },
    {
      "cell_type": "code",
      "source": [
        "df_pr_16, meta = pyreadstat.read_sav(r\"LBPR71FL.SAV\")\n",
        "df_pr_16.to_csv(\"mycsv_pr_16.csv\")\n",
        "df_pr_16"
      ],
      "metadata": {
        "id": "TbtGXznQzXdz"
      },
      "execution_count": null,
      "outputs": []
    },
    {
      "cell_type": "markdown",
      "source": [
        "# **Liberia: Standard DHS, 2013**"
      ],
      "metadata": {
        "id": "76u8kFp5zYU5"
      }
    },
    {
      "cell_type": "code",
      "source": [
        "df_br_13, meta = pyreadstat.read_sav(r\"LBBR6AFL.SAV\")\n",
        "df_br_13.to_csv(\"mycsv_br_13.csv\")\n",
        "df_br_13"
      ],
      "metadata": {
        "id": "MPfI5FIz3VyH"
      },
      "execution_count": null,
      "outputs": []
    },
    {
      "cell_type": "code",
      "source": [
        "df_cr_13, meta = pyreadstat.read_sav(r\"LBCR6AFL.SAV\")\n",
        "df_cr_13.to_csv(\"mycsv_cr_13.csv\")\n",
        "df_cr_13"
      ],
      "metadata": {
        "id": "5eOykB914uq-"
      },
      "execution_count": null,
      "outputs": []
    },
    {
      "cell_type": "code",
      "source": [
        "df_hr_13, meta = pyreadstat.read_sav(r\"LBHR6AFL.SAV\")\n",
        "df_hr_13.to_csv(\"mycsv_hr_13.csv\")\n",
        "df_hr_13"
      ],
      "metadata": {
        "id": "3UxLUrZx4vq1"
      },
      "execution_count": null,
      "outputs": []
    },
    {
      "cell_type": "code",
      "source": [
        "df_ir_13, meta = pyreadstat.read_sav(r\"LBIR6AFL.SAV\")\n",
        "df_ir_13.to_csv(\"mycsv_ir_13.csv\")\n",
        "df_ir_13"
      ],
      "metadata": {
        "id": "vNls4VLc4wYV"
      },
      "execution_count": null,
      "outputs": []
    },
    {
      "cell_type": "code",
      "source": [
        "df_kr_13, meta = pyreadstat.read_sav(r\"LBKR6AFL.SAV\")\n",
        "df_kr_13.to_csv(\"mycsv_kr_13.csv\")\n",
        "df_kr_13"
      ],
      "metadata": {
        "id": "qPJFANyR4w_S"
      },
      "execution_count": null,
      "outputs": []
    },
    {
      "cell_type": "code",
      "source": [
        "df_mr_13, meta = pyreadstat.read_sav(r\"LBMR6AFL.SAV\")\n",
        "df_mr_13.to_csv(\"mycsv_mr_13.csv\")\n",
        "df_mr_13"
      ],
      "metadata": {
        "id": "X888E1NU4xmu"
      },
      "execution_count": null,
      "outputs": []
    },
    {
      "cell_type": "code",
      "source": [
        "df_pr_13, meta = pyreadstat.read_sav(r\"LBPR6AFL.SAV\")\n",
        "df_pr_13.to_csv(\"mycsv_pr_13.csv\")\n",
        "df_pr_13"
      ],
      "metadata": {
        "id": "wh_uEyab4yc_"
      },
      "execution_count": null,
      "outputs": []
    },
    {
      "cell_type": "markdown",
      "source": [
        "# **Liberia: MIS, 2011**"
      ],
      "metadata": {
        "id": "aJOB9fTu6TCe"
      }
    },
    {
      "cell_type": "code",
      "source": [
        "df_hr_11, meta = pyreadstat.read_sav(r\"LBHR61FL.SAV\")\n",
        "df_hr_11.to_csv(\"mycsv_hr_11.csv\")\n",
        "df_hr_11"
      ],
      "metadata": {
        "id": "DhNHtGPg67p3"
      },
      "execution_count": null,
      "outputs": []
    },
    {
      "cell_type": "code",
      "source": [
        "df_ir_11, meta = pyreadstat.read_sav(r\"LBIR61FL.SAV\")\n",
        "df_ir_11.to_csv(\"mycsv_ir_11.csv\")\n",
        "df_ir_11"
      ],
      "metadata": {
        "id": "REZ7GPSj7rWN"
      },
      "execution_count": null,
      "outputs": []
    },
    {
      "cell_type": "code",
      "source": [
        "df_kr_11, meta = pyreadstat.read_sav(r\"LBKR61FL.SAV\")\n",
        "df_kr_11.to_csv(\"mycsv_kr_11.csv\")\n",
        "df_kr_11"
      ],
      "metadata": {
        "id": "WoalH-px7sF4"
      },
      "execution_count": null,
      "outputs": []
    },
    {
      "cell_type": "code",
      "source": [
        "df_pr_11, meta = pyreadstat.read_sav(r\"LBPR61FL.SAV\")\n",
        "df_pr_11.to_csv(\"mycsv_pr_11.csv\")\n",
        "df_pr_11"
      ],
      "metadata": {
        "id": "th1R6lsX7sw9"
      },
      "execution_count": null,
      "outputs": []
    },
    {
      "cell_type": "markdown",
      "source": [
        "# **Liberia: MIS, 2009**"
      ],
      "metadata": {
        "id": "4WlDeLjw8Q9-"
      }
    },
    {
      "cell_type": "code",
      "source": [
        "df_br_09, meta = pyreadstat.read_sav(r\"LBBR5AFL.SAV\")\n",
        "df_br_09.to_csv(\"mycsv_br_09.csv\")\n",
        "df_br_09"
      ],
      "metadata": {
        "id": "6gTUX4qx8tnu"
      },
      "execution_count": null,
      "outputs": []
    },
    {
      "cell_type": "code",
      "source": [
        "df_hr_09, meta = pyreadstat.read_sav(r\"LBHR5AFL.SAV\")\n",
        "df_hr_09.to_csv(\"mycsv_hr_09.csv\")\n",
        "df_hr_09"
      ],
      "metadata": {
        "id": "m0_577So9rV8"
      },
      "execution_count": null,
      "outputs": []
    },
    {
      "cell_type": "code",
      "source": [
        "df_ir_09, meta = pyreadstat.read_sav(r\"LBIR5AFL.SAV\")\n",
        "df_ir_09.to_csv(\"mycsv_ir_09.csv\")\n",
        "df_ir_09"
      ],
      "metadata": {
        "id": "i7_hbtXl9xxb"
      },
      "execution_count": null,
      "outputs": []
    },
    {
      "cell_type": "code",
      "source": [
        "df_kr_09, meta = pyreadstat.read_sav(r\"LBKR5AFL.SAV\")\n",
        "df_kr_09.to_csv(\"mycsv_kr_09.csv\")\n",
        "df_kr_09"
      ],
      "metadata": {
        "id": "Id-NE4od9yze"
      },
      "execution_count": null,
      "outputs": []
    },
    {
      "cell_type": "code",
      "source": [
        "df_pr_09, meta = pyreadstat.read_sav(r\"LBPR5AFL.SAV\")\n",
        "df_pr_09.to_csv(\"mycsv_pr_09.csv\")\n",
        "df_pr_09"
      ],
      "metadata": {
        "id": "Avj8VE_S9zqq"
      },
      "execution_count": null,
      "outputs": []
    },
    {
      "cell_type": "markdown",
      "source": [
        "# **Liberia: Standard DHS, 2007**"
      ],
      "metadata": {
        "id": "_bP-0zH6-XqZ"
      }
    },
    {
      "cell_type": "code",
      "source": [
        "df_br_07, meta = pyreadstat.read_sav(r\"LBBR51FL.SAV\")\n",
        "df_br_07.to_csv(\"mycsv_br_07.csv\")\n",
        "df_br_07"
      ],
      "metadata": {
        "id": "UWxpBlRa-nIb"
      },
      "execution_count": null,
      "outputs": []
    },
    {
      "cell_type": "code",
      "source": [
        "df_cr_07, meta = pyreadstat.read_sav(r\"LBCR51FL.SAV\")\n",
        "df_cr_07.to_csv(\"mycsv_cr_07.csv\")\n",
        "df_cr_07"
      ],
      "metadata": {
        "id": "1-Jut64QAiic"
      },
      "execution_count": null,
      "outputs": []
    },
    {
      "cell_type": "code",
      "source": [
        "df_hr_07, meta = pyreadstat.read_sav(r\"lbhr51fl.sav\")\n",
        "df_hr_07.to_csv(\"mycsv_hr_07.csv\")\n",
        "df_hr_07"
      ],
      "metadata": {
        "id": "JjHXcrtFAiK3"
      },
      "execution_count": null,
      "outputs": []
    },
    {
      "cell_type": "code",
      "source": [
        "df_ir_07, meta = pyreadstat.read_sav(r\"LBIR51FL.SAV\")\n",
        "df_ir_07.to_csv(\"mycsv_ir_07.csv\")\n",
        "df_ir_07"
      ],
      "metadata": {
        "id": "FxE8BNsyAh2z"
      },
      "execution_count": null,
      "outputs": []
    },
    {
      "cell_type": "code",
      "source": [
        "df_kr_07, meta = pyreadstat.read_sav(r\"LBKR51FL.SAV\")\n",
        "df_kr_07.to_csv(\"mycsv_kr_07.csv\")\n",
        "df_kr_07"
      ],
      "metadata": {
        "id": "w2Ov6faeAhfT"
      },
      "execution_count": null,
      "outputs": []
    },
    {
      "cell_type": "code",
      "source": [
        "df_mr_07, meta = pyreadstat.read_sav(r\"LBMR51FL.SAV\")\n",
        "df_mr_07.to_csv(\"mycsv_mr_07.csv\")\n",
        "df_mr_07"
      ],
      "metadata": {
        "id": "4iXcK-uzAg4S"
      },
      "execution_count": null,
      "outputs": []
    },
    {
      "cell_type": "code",
      "source": [
        "df_pr_07, meta = pyreadstat.read_sav(r\"lbpr51fl.sav\")\n",
        "df_pr_07.to_csv(\"mycsv_pr_07.csv\")\n",
        "df_pr_07"
      ],
      "metadata": {
        "id": "fscHTmdzAe97"
      },
      "execution_count": null,
      "outputs": []
    },
    {
      "cell_type": "markdown",
      "source": [
        "# **Liberia: Standard DHS, 1986**"
      ],
      "metadata": {
        "id": "hlondxnJCT7x"
      }
    },
    {
      "cell_type": "code",
      "source": [
        "df_br_86, meta = pyreadstat.read_sav(r\"LBBR01FL.SAV\")\n",
        "df_br_86.to_csv(\"mycsv_br_86.csv\")\n",
        "df_br_86"
      ],
      "metadata": {
        "id": "GD0nAwaXCysL"
      },
      "execution_count": null,
      "outputs": []
    },
    {
      "cell_type": "code",
      "source": [
        "df_hh_86, meta = pyreadstat.read_sav(r\"LBHH01FL.SAV\")\n",
        "df_hh_86.to_csv(\"mycsv_hh_86.csv\")\n",
        "df_hh_86"
      ],
      "metadata": {
        "id": "y3T77R3tFprc"
      },
      "execution_count": null,
      "outputs": []
    },
    {
      "cell_type": "code",
      "source": [
        "df_ir_86, meta = pyreadstat.read_sav(r\"LBIR01FL.SAV\")\n",
        "df_ir_86.to_csv(\"mycsv_ir_86.csv\")\n",
        "df_ir_86"
      ],
      "metadata": {
        "id": "CrzR2BNWFpWt"
      },
      "execution_count": null,
      "outputs": []
    },
    {
      "cell_type": "code",
      "source": [
        "df_kr_86, meta = pyreadstat.read_sav(r\"LBKR01FL.SAV\")\n",
        "df_kr_86.to_csv(\"mycsv_kr_86.csv\")\n",
        "df_kr_86"
      ],
      "metadata": {
        "id": "7J2bbM7WFow-"
      },
      "execution_count": null,
      "outputs": []
    },
    {
      "cell_type": "code",
      "source": [],
      "metadata": {
        "id": "buNJuMzvNLfx"
      },
      "execution_count": null,
      "outputs": []
    }
  ]
}